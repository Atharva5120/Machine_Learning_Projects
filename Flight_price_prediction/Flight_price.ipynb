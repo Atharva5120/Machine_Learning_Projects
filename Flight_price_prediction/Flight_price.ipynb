{
 "cells": [
  {
   "cell_type": "markdown",
   "id": "0e839615",
   "metadata": {},
   "source": [
    "# Flight Price Prediction - Atharva Rodge"
   ]
  },
  {
   "cell_type": "markdown",
   "id": "098fe92b",
   "metadata": {},
   "source": [
    "# Introduction\n",
    "In the new technological era, air travel has become an essential aspect of our lives, whether say for business, leisure, or visiting loved ones, or gonig back to our home countries for visit we all are excited to travel in a airplane. However, we observe that with the fluctuating nature of flight prices planning a trip can often be hard because of the uncertainity in the prices of the airline companies\n",
    "\n",
    "By using historical flight data and predictive modeling techniques, my project provides travelers with insights into future flight prices, allowing them to plan their trips more efficiently and budget effectively.\n",
    "\n",
    "To address this issue and help travellers make easier decisions. Our goal is to create a strong machine learning model that can effectively estimate flight rates based on a variety of criteria such as airline, departure and arrival locations, booking time, and other important information.\n",
    "\n",
    "Through this project, i hope to contribute to enhancing and optimize the overall travel experience by offering a reliable tool for predicting flight prices, thereby enabling travelers to make well-informed decisions and optimize their travel expenses.\n",
    "\n",
    "This dataset provides flight fare data gathered from the KAYAK website via web scraping techniques. The data was collected with the intention of providing users with information that would allow them to make educated decisions about when to buy airline tickets. By analysing historical airline costs, users may find the optimal times to purchase tickets and potentially save money."
   ]
  },
  {
   "cell_type": "markdown",
   "id": "22281b38",
   "metadata": {},
   "source": [
    "## Goal \n",
    "\n",
    "The goal of this project is to predict future flight prices using historical data. In order to accomplish this we started off with analyzing a dataset that contains previous flight prices from 'New York City', 'Paris', 'Russia', 'Riyadh Saudi Arabia' to build a accurate prediction model.\n",
    "\n",
    "Initially, The goal is to clean the dataset to select relevant features and performed encoding as we cannot use string values for the algoritms. We will prepare the data and manipluate it as per our requirment for the model and visualisation. Furthermore, we will select the best model and plot the actual and predicted values for that model and use some basic debugging techniques to check the accuracy of the model."
   ]
  },
  {
   "cell_type": "markdown",
   "id": "1b4a0570",
   "metadata": {},
   "source": [
    "### Importing required libraries"
   ]
  },
  {
   "cell_type": "code",
   "execution_count": 1,
   "id": "b29b7f1b",
   "metadata": {},
   "outputs": [],
   "source": [
    "import numpy as np\n",
    "import pandas as pd\n",
    "import matplotlib.pyplot as plt\n",
    "from sklearn import metrics\n",
    "from sklearn.metrics import mean_squared_error, r2_score"
   ]
  },
  {
   "cell_type": "markdown",
   "id": "1b009749",
   "metadata": {},
   "source": [
    "# Dataset\n",
    "\n",
    "The dataset for this project is has a collection of flight-related data acquired from KAYAK for specific routes listed below, this includs name of airline, Total stops, Source, Destination, Duration, Date and the main variable on which we are going to work the price of the flight booking. The collection covers a significant time period, including 4 months of flight data from various routes and carriers.\n",
    "\n",
    "Additionally, data preprocessing techniques have been applied to clean and prepare the dataset for analysis, including handling missing values, removing duplicates, and encoding categorical variables, extracting import data from columns and deleteing additional columns. The dataset serves as the foundation for training and evaluating our flight price prediction model, providing valuable insights into the factors influencing airfare dynamics and enabling the development of accurate predictive algorithms.\n",
    "\n",
    "Orignally the data is sourced from GIT HUB, ther are multiple datasets and referencesavailable on this platform. GitHub provides a centralised platform for developers to collaborate, manage, and exchange code, promoting transparency, efficiency, and creativity in software development projects.\n",
    "\n",
    "In total the data have 8 main features Airline, Source, Destination, Total stops, date, Time, Price \n",
    "\n",
    "The data is scraped from Kayak for the period from 2022-02-01 to 2022-04-30 for the following 12 routes\n",
    "\n",
    "RUH => NYC, RUH => SVO, RUH => PAR, NYC => RUH, NYC => SVO, NYC => PAR, SVO => PAR, SVO => RUH, SVO => NYC, PAR => NYC,       PAR => RUH, PAR => SVO.\n",
    "\n",
    "This data was used to train the models of the project."
   ]
  },
  {
   "cell_type": "code",
   "execution_count": 2,
   "id": "a30679c4",
   "metadata": {},
   "outputs": [],
   "source": [
    "# The code snippet is to read the data using pandas library.\n",
    "data1 = pd.read_csv('Data_set/NYC_SVO.csv')\n",
    "data2 = pd.read_csv('Data_set/NYC_RUH.csv')\n",
    "data3 = pd.read_csv('Data_set/NYC_PAR.csv')\n",
    "\n",
    "data4 = pd.read_csv('Data_set/PAR_NYC.csv')\n",
    "data5 = pd.read_csv('Data_set/PAR_SVO.csv')\n",
    "data6 = pd.read_csv('Data_set/PAR_RUH.csv')\n",
    "\n",
    "data7 = pd.read_csv(\"Data_set/SVO_NYC.csv\")\n",
    "data8 = pd.read_csv(\"Data_set/SVO_RUH.csv\")\n",
    "data9 = pd.read_csv(\"Data_set/SVO_PAR.csv\")\n",
    "\n",
    "data10 = pd.read_csv('Data_set/RUH_NYC.csv')\n",
    "data11 = pd.read_csv(\"Data_set/RUH_PAR.csv\")\n",
    "data12 = pd.read_csv(\"Data_set/RUH_SVO.csv\")"
   ]
  },
  {
   "cell_type": "code",
   "execution_count": 3,
   "id": "526c5c5c",
   "metadata": {},
   "outputs": [],
   "source": [
    "# Concatinating all the small dataset into single data for further analysis using concat() function in pandas\n",
    "data = pd.concat([data1, data2, data3, data4, data5, data6, data7, data8, data9, data10, data11, data12])"
   ]
  },
  {
   "cell_type": "code",
   "execution_count": 4,
   "id": "49ec4ffb",
   "metadata": {},
   "outputs": [
    {
     "data": {
      "text/html": [
       "<div>\n",
       "<style scoped>\n",
       "    .dataframe tbody tr th:only-of-type {\n",
       "        vertical-align: middle;\n",
       "    }\n",
       "\n",
       "    .dataframe tbody tr th {\n",
       "        vertical-align: top;\n",
       "    }\n",
       "\n",
       "    .dataframe thead th {\n",
       "        text-align: right;\n",
       "    }\n",
       "</style>\n",
       "<table border=\"1\" class=\"dataframe\">\n",
       "  <thead>\n",
       "    <tr style=\"text-align: right;\">\n",
       "      <th></th>\n",
       "      <th>Airline</th>\n",
       "      <th>Source</th>\n",
       "      <th>Destination</th>\n",
       "      <th>Duration</th>\n",
       "      <th>Total stops</th>\n",
       "      <th>Price</th>\n",
       "      <th>Date</th>\n",
       "    </tr>\n",
       "  </thead>\n",
       "  <tbody>\n",
       "    <tr>\n",
       "      <th>0</th>\n",
       "      <td>Aeroflot</td>\n",
       "      <td>NYC</td>\n",
       "      <td>SVO</td>\n",
       "      <td>9h 00m</td>\n",
       "      <td>nonstop</td>\n",
       "      <td>1,282 SAR</td>\n",
       "      <td>2022-02-01</td>\n",
       "    </tr>\n",
       "    <tr>\n",
       "      <th>1</th>\n",
       "      <td>Aeroflot</td>\n",
       "      <td>NYC</td>\n",
       "      <td>SVO</td>\n",
       "      <td>9h 00m</td>\n",
       "      <td>nonstop</td>\n",
       "      <td>1,203 SAR</td>\n",
       "      <td>2022-02-01</td>\n",
       "    </tr>\n",
       "    <tr>\n",
       "      <th>2</th>\n",
       "      <td>Aeroflot</td>\n",
       "      <td>NYC</td>\n",
       "      <td>SVO</td>\n",
       "      <td>9h 00m</td>\n",
       "      <td>nonstop</td>\n",
       "      <td>1,203 SAR</td>\n",
       "      <td>2022-02-01</td>\n",
       "    </tr>\n",
       "    <tr>\n",
       "      <th>3</th>\n",
       "      <td>Delta</td>\n",
       "      <td>NYC</td>\n",
       "      <td>SVO</td>\n",
       "      <td>11h 30m</td>\n",
       "      <td>1 stop</td>\n",
       "      <td>1,397 SAR</td>\n",
       "      <td>2022-02-01</td>\n",
       "    </tr>\n",
       "    <tr>\n",
       "      <th>4</th>\n",
       "      <td>Delta</td>\n",
       "      <td>NYC</td>\n",
       "      <td>SVO</td>\n",
       "      <td>12h 35m</td>\n",
       "      <td>1 stop</td>\n",
       "      <td>1,414 SAR</td>\n",
       "      <td>2022-02-01</td>\n",
       "    </tr>\n",
       "  </tbody>\n",
       "</table>\n",
       "</div>"
      ],
      "text/plain": [
       "    Airline Source Destination  Duration Total stops       Price        Date\n",
       "0  Aeroflot    NYC         SVO   9h 00m     nonstop   1,282 SAR   2022-02-01\n",
       "1  Aeroflot    NYC         SVO   9h 00m     nonstop   1,203 SAR   2022-02-01\n",
       "2  Aeroflot    NYC         SVO   9h 00m     nonstop   1,203 SAR   2022-02-01\n",
       "3     Delta    NYC         SVO  11h 30m      1 stop   1,397 SAR   2022-02-01\n",
       "4     Delta    NYC         SVO  12h 35m      1 stop   1,414 SAR   2022-02-01"
      ]
     },
     "execution_count": 4,
     "metadata": {},
     "output_type": "execute_result"
    }
   ],
   "source": [
    "# Printing first 5 values in the dataset\n",
    "data.head()"
   ]
  },
  {
   "cell_type": "code",
   "execution_count": 5,
   "id": "cbf6e786",
   "metadata": {},
   "outputs": [
    {
     "data": {
      "text/plain": [
       "(55363, 7)"
      ]
     },
     "execution_count": 5,
     "metadata": {},
     "output_type": "execute_result"
    }
   ],
   "source": [
    "data.shape"
   ]
  },
  {
   "cell_type": "markdown",
   "id": "983e2882",
   "metadata": {},
   "source": [
    "The shape() function is used to extract number of rows and columns in a dataframe. Using shape function we can see that the data contains '55363' unique rows and '7' columns."
   ]
  },
  {
   "cell_type": "code",
   "execution_count": 6,
   "id": "7834d017",
   "metadata": {},
   "outputs": [
    {
     "name": "stdout",
     "output_type": "stream",
     "text": [
      "<class 'pandas.core.frame.DataFrame'>\n",
      "Int64Index: 55363 entries, 0 to 2724\n",
      "Data columns (total 7 columns):\n",
      " #   Column       Non-Null Count  Dtype \n",
      "---  ------       --------------  ----- \n",
      " 0   Airline      55363 non-null  object\n",
      " 1   Source       55363 non-null  object\n",
      " 2   Destination  55363 non-null  object\n",
      " 3   Duration     55363 non-null  object\n",
      " 4   Total stops  55363 non-null  object\n",
      " 5   Price        55363 non-null  object\n",
      " 6   Date         55363 non-null  object\n",
      "dtypes: object(7)\n",
      "memory usage: 3.4+ MB\n"
     ]
    }
   ],
   "source": [
    "data.info()"
   ]
  },
  {
   "cell_type": "markdown",
   "id": "56c89760",
   "metadata": {},
   "source": [
    "The data.info() function is used for summary of the Data Frame, including the data types of columns, the number of non-null values in each column, and memory usage. it also helped us0 to identify missing values, and assess memory usage. "
   ]
  },
  {
   "cell_type": "markdown",
   "id": "aad6e9e5",
   "metadata": {},
   "source": [
    "# PRELIMINARY ANALYSIS\n",
    "\n",
    "During the preliminary analysis stage of the project, we began by exploring the dataset to obtain an understanding of its structure, contents, and features. First we checked the null value  We also examined the distribution of data across several variables to better understand the data. Followed by further data analysis to change the variable 'Price' from SAR to US.Dollar using regex. Aditionally, we create a final data converting the date into three different columns 'Month', 'Day', 'Year' and splitting duration into two different columns 'Hours' and 'Minutes'. We will used this clean dataframe for modelling. \n",
    "\n",
    "Furthermore, we used data visualisation tools such as Bar, box plots, and scatter plots to visualise the correlations between variables and identify any underlying patterns or trends. This early study revealed vital insights into the dataset's composition, which guided our following data preparation activities and influenced the creation of our flight price prediction model."
   ]
  },
  {
   "cell_type": "code",
   "execution_count": 7,
   "id": "bf162108",
   "metadata": {
    "scrolled": true
   },
   "outputs": [
    {
     "data": {
      "text/plain": [
       "Airline        0\n",
       "Source         0\n",
       "Destination    0\n",
       "Duration       0\n",
       "Total stops    0\n",
       "Price          0\n",
       "Date           0\n",
       "dtype: int64"
      ]
     },
     "execution_count": 7,
     "metadata": {},
     "output_type": "execute_result"
    }
   ],
   "source": [
    "# Checking Null values\n",
    "data.isna().sum()"
   ]
  },
  {
   "cell_type": "markdown",
   "id": "d2103d45",
   "metadata": {},
   "source": [
    "From the above output we can see that the data is clean as there are no null values in this particular data."
   ]
  },
  {
   "cell_type": "code",
   "execution_count": 8,
   "id": "b91cb678",
   "metadata": {},
   "outputs": [
    {
     "data": {
      "text/html": [
       "<div>\n",
       "<style scoped>\n",
       "    .dataframe tbody tr th:only-of-type {\n",
       "        vertical-align: middle;\n",
       "    }\n",
       "\n",
       "    .dataframe tbody tr th {\n",
       "        vertical-align: top;\n",
       "    }\n",
       "\n",
       "    .dataframe thead th {\n",
       "        text-align: right;\n",
       "    }\n",
       "</style>\n",
       "<table border=\"1\" class=\"dataframe\">\n",
       "  <thead>\n",
       "    <tr style=\"text-align: right;\">\n",
       "      <th></th>\n",
       "      <th>Airline</th>\n",
       "      <th>Source</th>\n",
       "      <th>Destination</th>\n",
       "      <th>Duration</th>\n",
       "      <th>Total stops</th>\n",
       "      <th>Price</th>\n",
       "      <th>Date</th>\n",
       "    </tr>\n",
       "  </thead>\n",
       "  <tbody>\n",
       "    <tr>\n",
       "      <th>0</th>\n",
       "      <td>Aeroflot</td>\n",
       "      <td>NYC</td>\n",
       "      <td>SVO</td>\n",
       "      <td>9h 00m</td>\n",
       "      <td>nonstop</td>\n",
       "      <td>346.14</td>\n",
       "      <td>2022-02-01</td>\n",
       "    </tr>\n",
       "    <tr>\n",
       "      <th>1</th>\n",
       "      <td>Aeroflot</td>\n",
       "      <td>NYC</td>\n",
       "      <td>SVO</td>\n",
       "      <td>9h 00m</td>\n",
       "      <td>nonstop</td>\n",
       "      <td>324.81</td>\n",
       "      <td>2022-02-01</td>\n",
       "    </tr>\n",
       "    <tr>\n",
       "      <th>2</th>\n",
       "      <td>Aeroflot</td>\n",
       "      <td>NYC</td>\n",
       "      <td>SVO</td>\n",
       "      <td>9h 00m</td>\n",
       "      <td>nonstop</td>\n",
       "      <td>324.81</td>\n",
       "      <td>2022-02-01</td>\n",
       "    </tr>\n",
       "    <tr>\n",
       "      <th>3</th>\n",
       "      <td>Delta</td>\n",
       "      <td>NYC</td>\n",
       "      <td>SVO</td>\n",
       "      <td>11h 30m</td>\n",
       "      <td>1 stop</td>\n",
       "      <td>377.19</td>\n",
       "      <td>2022-02-01</td>\n",
       "    </tr>\n",
       "    <tr>\n",
       "      <th>4</th>\n",
       "      <td>Delta</td>\n",
       "      <td>NYC</td>\n",
       "      <td>SVO</td>\n",
       "      <td>12h 35m</td>\n",
       "      <td>1 stop</td>\n",
       "      <td>381.78</td>\n",
       "      <td>2022-02-01</td>\n",
       "    </tr>\n",
       "  </tbody>\n",
       "</table>\n",
       "</div>"
      ],
      "text/plain": [
       "    Airline Source Destination  Duration Total stops   Price        Date\n",
       "0  Aeroflot    NYC         SVO   9h 00m     nonstop   346.14  2022-02-01\n",
       "1  Aeroflot    NYC         SVO   9h 00m     nonstop   324.81  2022-02-01\n",
       "2  Aeroflot    NYC         SVO   9h 00m     nonstop   324.81  2022-02-01\n",
       "3     Delta    NYC         SVO  11h 30m      1 stop   377.19  2022-02-01\n",
       "4     Delta    NYC         SVO  12h 35m      1 stop   381.78  2022-02-01"
      ]
     },
     "execution_count": 8,
     "metadata": {},
     "output_type": "execute_result"
    }
   ],
   "source": [
    "def price(price):\n",
    "    price = price.str.replace(',','', regex = True)\n",
    "    price = price.str.replace('SAR',' ',regex = True)\n",
    "    price = price.str.strip()\n",
    "    price = round(pd.to_numeric(price) * 0.27 , 2 )\n",
    "    return price\n",
    "\n",
    "data['Price'] = price(data['Price']) \n",
    "data.head()"
   ]
  },
  {
   "cell_type": "markdown",
   "id": "4ac0016e",
   "metadata": {},
   "source": [
    "The function 'price' is defined to convert the price from SAR to US.Dollars "
   ]
  },
  {
   "cell_type": "code",
   "execution_count": 9,
   "id": "f89446bb",
   "metadata": {},
   "outputs": [],
   "source": [
    "# Replacing '-' with '/' to convert the column Date into three different Columns\n",
    "data['Date'] = data['Date'].replace('-','/', regex = True)"
   ]
  },
  {
   "cell_type": "code",
   "execution_count": 10,
   "id": "15dc676d",
   "metadata": {},
   "outputs": [],
   "source": [
    "# Creating three different columns using Data manipulation techniques\n",
    "data['Date'] = pd.to_datetime( data['Date'])\n",
    "data['Day'] = data['Date'].dt.day\n",
    "data['Month'] = data['Date'].dt.month\n",
    "data['Year'] = data['Date'].dt.year"
   ]
  },
  {
   "cell_type": "code",
   "execution_count": 11,
   "id": "63eb57ae",
   "metadata": {},
   "outputs": [],
   "source": [
    "# Drop the column date as we no more need it for further analysis because \n",
    "# we created three different columns using this particular column.\n",
    "data.drop( columns = ['Date'] , inplace = True)"
   ]
  },
  {
   "cell_type": "code",
   "execution_count": 12,
   "id": "eb981d0b",
   "metadata": {},
   "outputs": [
    {
     "data": {
      "text/html": [
       "<div>\n",
       "<style scoped>\n",
       "    .dataframe tbody tr th:only-of-type {\n",
       "        vertical-align: middle;\n",
       "    }\n",
       "\n",
       "    .dataframe tbody tr th {\n",
       "        vertical-align: top;\n",
       "    }\n",
       "\n",
       "    .dataframe thead th {\n",
       "        text-align: right;\n",
       "    }\n",
       "</style>\n",
       "<table border=\"1\" class=\"dataframe\">\n",
       "  <thead>\n",
       "    <tr style=\"text-align: right;\">\n",
       "      <th></th>\n",
       "      <th>Airline</th>\n",
       "      <th>Source</th>\n",
       "      <th>Destination</th>\n",
       "      <th>Duration</th>\n",
       "      <th>Total stops</th>\n",
       "      <th>Price</th>\n",
       "      <th>Day</th>\n",
       "      <th>Month</th>\n",
       "      <th>Year</th>\n",
       "    </tr>\n",
       "  </thead>\n",
       "  <tbody>\n",
       "    <tr>\n",
       "      <th>0</th>\n",
       "      <td>Aeroflot</td>\n",
       "      <td>NYC</td>\n",
       "      <td>SVO</td>\n",
       "      <td>9h 00m</td>\n",
       "      <td>nonstop</td>\n",
       "      <td>346.14</td>\n",
       "      <td>1</td>\n",
       "      <td>2</td>\n",
       "      <td>2022</td>\n",
       "    </tr>\n",
       "    <tr>\n",
       "      <th>1</th>\n",
       "      <td>Aeroflot</td>\n",
       "      <td>NYC</td>\n",
       "      <td>SVO</td>\n",
       "      <td>9h 00m</td>\n",
       "      <td>nonstop</td>\n",
       "      <td>324.81</td>\n",
       "      <td>1</td>\n",
       "      <td>2</td>\n",
       "      <td>2022</td>\n",
       "    </tr>\n",
       "    <tr>\n",
       "      <th>2</th>\n",
       "      <td>Aeroflot</td>\n",
       "      <td>NYC</td>\n",
       "      <td>SVO</td>\n",
       "      <td>9h 00m</td>\n",
       "      <td>nonstop</td>\n",
       "      <td>324.81</td>\n",
       "      <td>1</td>\n",
       "      <td>2</td>\n",
       "      <td>2022</td>\n",
       "    </tr>\n",
       "    <tr>\n",
       "      <th>3</th>\n",
       "      <td>Delta</td>\n",
       "      <td>NYC</td>\n",
       "      <td>SVO</td>\n",
       "      <td>11h 30m</td>\n",
       "      <td>1 stop</td>\n",
       "      <td>377.19</td>\n",
       "      <td>1</td>\n",
       "      <td>2</td>\n",
       "      <td>2022</td>\n",
       "    </tr>\n",
       "    <tr>\n",
       "      <th>4</th>\n",
       "      <td>Delta</td>\n",
       "      <td>NYC</td>\n",
       "      <td>SVO</td>\n",
       "      <td>12h 35m</td>\n",
       "      <td>1 stop</td>\n",
       "      <td>381.78</td>\n",
       "      <td>1</td>\n",
       "      <td>2</td>\n",
       "      <td>2022</td>\n",
       "    </tr>\n",
       "  </tbody>\n",
       "</table>\n",
       "</div>"
      ],
      "text/plain": [
       "    Airline Source Destination  Duration Total stops   Price  Day  Month  Year\n",
       "0  Aeroflot    NYC         SVO   9h 00m     nonstop   346.14    1      2  2022\n",
       "1  Aeroflot    NYC         SVO   9h 00m     nonstop   324.81    1      2  2022\n",
       "2  Aeroflot    NYC         SVO   9h 00m     nonstop   324.81    1      2  2022\n",
       "3     Delta    NYC         SVO  11h 30m      1 stop   377.19    1      2  2022\n",
       "4     Delta    NYC         SVO  12h 35m      1 stop   381.78    1      2  2022"
      ]
     },
     "execution_count": 12,
     "metadata": {},
     "output_type": "execute_result"
    }
   ],
   "source": [
    "data.head()"
   ]
  },
  {
   "cell_type": "code",
   "execution_count": 13,
   "id": "b617c259",
   "metadata": {},
   "outputs": [],
   "source": [
    "# Function to split duration into hours and minutes\n",
    "def split_duration(duration):\n",
    "    parts = duration.split()\n",
    "    hours = int(parts[0][:-1])\n",
    "    minutes = int(parts[1][:-1])\n",
    "    return hours, minutes\n",
    "\n",
    "# Apply the function to the DataFrame\n",
    "data[['Hours', 'Minutes']] = data['Duration'].apply(lambda x: pd.Series(split_duration(x)))\n",
    "\n",
    "data.drop(columns = ['Duration'], axis = 1, inplace = True)"
   ]
  },
  {
   "cell_type": "code",
   "execution_count": 14,
   "id": "1ad85b2f",
   "metadata": {
    "scrolled": true
   },
   "outputs": [
    {
     "data": {
      "text/html": [
       "<div>\n",
       "<style scoped>\n",
       "    .dataframe tbody tr th:only-of-type {\n",
       "        vertical-align: middle;\n",
       "    }\n",
       "\n",
       "    .dataframe tbody tr th {\n",
       "        vertical-align: top;\n",
       "    }\n",
       "\n",
       "    .dataframe thead th {\n",
       "        text-align: right;\n",
       "    }\n",
       "</style>\n",
       "<table border=\"1\" class=\"dataframe\">\n",
       "  <thead>\n",
       "    <tr style=\"text-align: right;\">\n",
       "      <th></th>\n",
       "      <th>Airline</th>\n",
       "      <th>Source</th>\n",
       "      <th>Destination</th>\n",
       "      <th>Total stops</th>\n",
       "      <th>Price</th>\n",
       "      <th>Day</th>\n",
       "      <th>Month</th>\n",
       "      <th>Year</th>\n",
       "      <th>Hours</th>\n",
       "      <th>Minutes</th>\n",
       "    </tr>\n",
       "  </thead>\n",
       "  <tbody>\n",
       "    <tr>\n",
       "      <th>0</th>\n",
       "      <td>Aeroflot</td>\n",
       "      <td>NYC</td>\n",
       "      <td>SVO</td>\n",
       "      <td>nonstop</td>\n",
       "      <td>346.14</td>\n",
       "      <td>1</td>\n",
       "      <td>2</td>\n",
       "      <td>2022</td>\n",
       "      <td>9</td>\n",
       "      <td>0</td>\n",
       "    </tr>\n",
       "    <tr>\n",
       "      <th>1</th>\n",
       "      <td>Aeroflot</td>\n",
       "      <td>NYC</td>\n",
       "      <td>SVO</td>\n",
       "      <td>nonstop</td>\n",
       "      <td>324.81</td>\n",
       "      <td>1</td>\n",
       "      <td>2</td>\n",
       "      <td>2022</td>\n",
       "      <td>9</td>\n",
       "      <td>0</td>\n",
       "    </tr>\n",
       "    <tr>\n",
       "      <th>2</th>\n",
       "      <td>Aeroflot</td>\n",
       "      <td>NYC</td>\n",
       "      <td>SVO</td>\n",
       "      <td>nonstop</td>\n",
       "      <td>324.81</td>\n",
       "      <td>1</td>\n",
       "      <td>2</td>\n",
       "      <td>2022</td>\n",
       "      <td>9</td>\n",
       "      <td>0</td>\n",
       "    </tr>\n",
       "    <tr>\n",
       "      <th>3</th>\n",
       "      <td>Delta</td>\n",
       "      <td>NYC</td>\n",
       "      <td>SVO</td>\n",
       "      <td>1 stop</td>\n",
       "      <td>377.19</td>\n",
       "      <td>1</td>\n",
       "      <td>2</td>\n",
       "      <td>2022</td>\n",
       "      <td>11</td>\n",
       "      <td>30</td>\n",
       "    </tr>\n",
       "    <tr>\n",
       "      <th>4</th>\n",
       "      <td>Delta</td>\n",
       "      <td>NYC</td>\n",
       "      <td>SVO</td>\n",
       "      <td>1 stop</td>\n",
       "      <td>381.78</td>\n",
       "      <td>1</td>\n",
       "      <td>2</td>\n",
       "      <td>2022</td>\n",
       "      <td>12</td>\n",
       "      <td>35</td>\n",
       "    </tr>\n",
       "  </tbody>\n",
       "</table>\n",
       "</div>"
      ],
      "text/plain": [
       "    Airline Source Destination Total stops   Price  Day  Month  Year  Hours  \\\n",
       "0  Aeroflot    NYC         SVO    nonstop   346.14    1      2  2022      9   \n",
       "1  Aeroflot    NYC         SVO    nonstop   324.81    1      2  2022      9   \n",
       "2  Aeroflot    NYC         SVO    nonstop   324.81    1      2  2022      9   \n",
       "3     Delta    NYC         SVO     1 stop   377.19    1      2  2022     11   \n",
       "4     Delta    NYC         SVO     1 stop   381.78    1      2  2022     12   \n",
       "\n",
       "   Minutes  \n",
       "0        0  \n",
       "1        0  \n",
       "2        0  \n",
       "3       30  \n",
       "4       35  "
      ]
     },
     "execution_count": 14,
     "metadata": {},
     "output_type": "execute_result"
    }
   ],
   "source": [
    "data.head()"
   ]
  },
  {
   "cell_type": "markdown",
   "id": "28192095",
   "metadata": {},
   "source": [
    "The data cleaning process was essential to ease our analysis by converting variables into standardized formats and simplifying the dataset. This involved transforming categorical variables into numerical representations. By removing extra information and enhancing data quality, we prepared the dataset for easier analysis and more accurate results."
   ]
  },
  {
   "cell_type": "markdown",
   "id": "f96f0d0e",
   "metadata": {},
   "source": [
    "# Method\n",
    "\n",
    "This project developes predictive models and accurately estimating ticket prices by employing various regression methods and algorithms to address the flight price prediction challenge. The algorithms chosen were deemed suitable for the task and demonstrated effectiveness in capturing the complex relationships between the target variable - price, and input data.\n",
    "\n",
    "Initially, Linear Regression algorithm is a baseline model to estimate price. This model assumes a linear relationship between input features and the target, aiming to minimize the mean squared error between observed and predicted prices. Our implementation of Multiple Regression and Lasso Regression achieved an accuracy score of 9% each on the test dataset.\n",
    "These two regression models are the worst for the data and we can say that the regression cannot be usd to predict the price of the flight. Usually we use regression model for categorical data and in our case the data is not categorical.\n",
    "Additionally, it has the highest MAE, MSE, and RMSE among the models, signifying larger errors in predicting flight prices. The low R2 value (0.0949) suggests that only about 9.49% of the variance in flight prices is explained by the model.\n",
    "\n",
    "Furthermore, the Random Forest Regressor algorithm, and Descision Tree Regressor an ensemble learning technique that combines multiple decision trees to enhance predictive accuracy. Random Forests are skilled in managing complex datasets and non-linear relationships, making them ideal for our flight price forecasting project. the Random Forest Regressor model attained an accuracy score of '89 %' and Descision Tree model gave us the accuracy score of '86 %' on the test dataset, surpassing the Multiple Regression and Lasso Regressoin models. Moreover, the computed MSE, RMSE, and R2 metrics provided valuable insights into predictive performance.\n",
    "\n",
    "In summary, we used different models and compared different approaches to find the best model for prediction airfare prices while also learning about the underlying dataset linkages and trends."
   ]
  },
  {
   "cell_type": "markdown",
   "id": "e36b43a5",
   "metadata": {},
   "source": [
    "### Model Preperation"
   ]
  },
  {
   "cell_type": "code",
   "execution_count": 15,
   "id": "1a1e4de4",
   "metadata": {
    "scrolled": true
   },
   "outputs": [],
   "source": [
    "model_data = data.copy()"
   ]
  },
  {
   "cell_type": "code",
   "execution_count": 16,
   "id": "7558d9cb",
   "metadata": {},
   "outputs": [
    {
     "data": {
      "text/html": [
       "<div>\n",
       "<style scoped>\n",
       "    .dataframe tbody tr th:only-of-type {\n",
       "        vertical-align: middle;\n",
       "    }\n",
       "\n",
       "    .dataframe tbody tr th {\n",
       "        vertical-align: top;\n",
       "    }\n",
       "\n",
       "    .dataframe thead th {\n",
       "        text-align: right;\n",
       "    }\n",
       "</style>\n",
       "<table border=\"1\" class=\"dataframe\">\n",
       "  <thead>\n",
       "    <tr style=\"text-align: right;\">\n",
       "      <th></th>\n",
       "      <th>Airline</th>\n",
       "      <th>Source</th>\n",
       "      <th>Destination</th>\n",
       "      <th>Total stops</th>\n",
       "      <th>Price</th>\n",
       "      <th>Day</th>\n",
       "      <th>Month</th>\n",
       "      <th>Year</th>\n",
       "      <th>Hours</th>\n",
       "      <th>Minutes</th>\n",
       "    </tr>\n",
       "  </thead>\n",
       "  <tbody>\n",
       "    <tr>\n",
       "      <th>0</th>\n",
       "      <td>Aeroflot</td>\n",
       "      <td>NYC</td>\n",
       "      <td>SVO</td>\n",
       "      <td>nonstop</td>\n",
       "      <td>346.14</td>\n",
       "      <td>1</td>\n",
       "      <td>2</td>\n",
       "      <td>2022</td>\n",
       "      <td>9</td>\n",
       "      <td>0</td>\n",
       "    </tr>\n",
       "    <tr>\n",
       "      <th>1</th>\n",
       "      <td>Aeroflot</td>\n",
       "      <td>NYC</td>\n",
       "      <td>SVO</td>\n",
       "      <td>nonstop</td>\n",
       "      <td>324.81</td>\n",
       "      <td>1</td>\n",
       "      <td>2</td>\n",
       "      <td>2022</td>\n",
       "      <td>9</td>\n",
       "      <td>0</td>\n",
       "    </tr>\n",
       "    <tr>\n",
       "      <th>2</th>\n",
       "      <td>Aeroflot</td>\n",
       "      <td>NYC</td>\n",
       "      <td>SVO</td>\n",
       "      <td>nonstop</td>\n",
       "      <td>324.81</td>\n",
       "      <td>1</td>\n",
       "      <td>2</td>\n",
       "      <td>2022</td>\n",
       "      <td>9</td>\n",
       "      <td>0</td>\n",
       "    </tr>\n",
       "    <tr>\n",
       "      <th>3</th>\n",
       "      <td>Delta</td>\n",
       "      <td>NYC</td>\n",
       "      <td>SVO</td>\n",
       "      <td>1 stop</td>\n",
       "      <td>377.19</td>\n",
       "      <td>1</td>\n",
       "      <td>2</td>\n",
       "      <td>2022</td>\n",
       "      <td>11</td>\n",
       "      <td>30</td>\n",
       "    </tr>\n",
       "    <tr>\n",
       "      <th>4</th>\n",
       "      <td>Delta</td>\n",
       "      <td>NYC</td>\n",
       "      <td>SVO</td>\n",
       "      <td>1 stop</td>\n",
       "      <td>381.78</td>\n",
       "      <td>1</td>\n",
       "      <td>2</td>\n",
       "      <td>2022</td>\n",
       "      <td>12</td>\n",
       "      <td>35</td>\n",
       "    </tr>\n",
       "  </tbody>\n",
       "</table>\n",
       "</div>"
      ],
      "text/plain": [
       "    Airline Source Destination Total stops   Price  Day  Month  Year  Hours  \\\n",
       "0  Aeroflot    NYC         SVO    nonstop   346.14    1      2  2022      9   \n",
       "1  Aeroflot    NYC         SVO    nonstop   324.81    1      2  2022      9   \n",
       "2  Aeroflot    NYC         SVO    nonstop   324.81    1      2  2022      9   \n",
       "3     Delta    NYC         SVO     1 stop   377.19    1      2  2022     11   \n",
       "4     Delta    NYC         SVO     1 stop   381.78    1      2  2022     12   \n",
       "\n",
       "   Minutes  \n",
       "0        0  \n",
       "1        0  \n",
       "2        0  \n",
       "3       30  \n",
       "4       35  "
      ]
     },
     "execution_count": 16,
     "metadata": {},
     "output_type": "execute_result"
    }
   ],
   "source": [
    "model_data.head()"
   ]
  },
  {
   "cell_type": "code",
   "execution_count": 17,
   "id": "7ea1e501",
   "metadata": {},
   "outputs": [
    {
     "data": {
      "text/plain": [
       "array(['nonstop ', '1 stop ', '2 stops ', '3 stops '], dtype=object)"
      ]
     },
     "execution_count": 17,
     "metadata": {},
     "output_type": "execute_result"
    }
   ],
   "source": [
    "# To check the unique values in the variable Total Stops\n",
    "model_data['Total stops'].unique()"
   ]
  },
  {
   "cell_type": "code",
   "execution_count": 18,
   "id": "c15f4bb5",
   "metadata": {},
   "outputs": [],
   "source": [
    "# Replacing the string values to numerical for our analysis\n",
    "model_data['Total stops'] = model_data['Total stops'].replace({'1 stop ': 1 , '2 stops ': 2 , '3 stops ': 3 , 'nonstop ': 0})"
   ]
  },
  {
   "cell_type": "code",
   "execution_count": 19,
   "id": "17667e79",
   "metadata": {},
   "outputs": [],
   "source": [
    "# Importing label incoding ro convert the string values to unique values \n",
    "# as for prediction we acnnot use string values\n",
    "from sklearn.preprocessing import LabelEncoder\n",
    "col = ['Airline','Source', 'Destination']\n",
    "\n",
    "for col in col:\n",
    "    model_data[col] = LabelEncoder().fit_transform(model_data[col])"
   ]
  },
  {
   "cell_type": "code",
   "execution_count": 20,
   "id": "cef7f0ec",
   "metadata": {
    "scrolled": true
   },
   "outputs": [
    {
     "data": {
      "text/html": [
       "<div>\n",
       "<style scoped>\n",
       "    .dataframe tbody tr th:only-of-type {\n",
       "        vertical-align: middle;\n",
       "    }\n",
       "\n",
       "    .dataframe tbody tr th {\n",
       "        vertical-align: top;\n",
       "    }\n",
       "\n",
       "    .dataframe thead th {\n",
       "        text-align: right;\n",
       "    }\n",
       "</style>\n",
       "<table border=\"1\" class=\"dataframe\">\n",
       "  <thead>\n",
       "    <tr style=\"text-align: right;\">\n",
       "      <th></th>\n",
       "      <th>Airline</th>\n",
       "      <th>Source</th>\n",
       "      <th>Destination</th>\n",
       "      <th>Total stops</th>\n",
       "      <th>Price</th>\n",
       "      <th>Day</th>\n",
       "      <th>Month</th>\n",
       "      <th>Year</th>\n",
       "      <th>Hours</th>\n",
       "      <th>Minutes</th>\n",
       "    </tr>\n",
       "  </thead>\n",
       "  <tbody>\n",
       "    <tr>\n",
       "      <th>0</th>\n",
       "      <td>14</td>\n",
       "      <td>0</td>\n",
       "      <td>3</td>\n",
       "      <td>0</td>\n",
       "      <td>346.14</td>\n",
       "      <td>1</td>\n",
       "      <td>2</td>\n",
       "      <td>2022</td>\n",
       "      <td>9</td>\n",
       "      <td>0</td>\n",
       "    </tr>\n",
       "    <tr>\n",
       "      <th>1</th>\n",
       "      <td>14</td>\n",
       "      <td>0</td>\n",
       "      <td>3</td>\n",
       "      <td>0</td>\n",
       "      <td>324.81</td>\n",
       "      <td>1</td>\n",
       "      <td>2</td>\n",
       "      <td>2022</td>\n",
       "      <td>9</td>\n",
       "      <td>0</td>\n",
       "    </tr>\n",
       "    <tr>\n",
       "      <th>2</th>\n",
       "      <td>14</td>\n",
       "      <td>0</td>\n",
       "      <td>3</td>\n",
       "      <td>0</td>\n",
       "      <td>324.81</td>\n",
       "      <td>1</td>\n",
       "      <td>2</td>\n",
       "      <td>2022</td>\n",
       "      <td>9</td>\n",
       "      <td>0</td>\n",
       "    </tr>\n",
       "    <tr>\n",
       "      <th>3</th>\n",
       "      <td>208</td>\n",
       "      <td>0</td>\n",
       "      <td>3</td>\n",
       "      <td>1</td>\n",
       "      <td>377.19</td>\n",
       "      <td>1</td>\n",
       "      <td>2</td>\n",
       "      <td>2022</td>\n",
       "      <td>11</td>\n",
       "      <td>30</td>\n",
       "    </tr>\n",
       "    <tr>\n",
       "      <th>4</th>\n",
       "      <td>208</td>\n",
       "      <td>0</td>\n",
       "      <td>3</td>\n",
       "      <td>1</td>\n",
       "      <td>381.78</td>\n",
       "      <td>1</td>\n",
       "      <td>2</td>\n",
       "      <td>2022</td>\n",
       "      <td>12</td>\n",
       "      <td>35</td>\n",
       "    </tr>\n",
       "  </tbody>\n",
       "</table>\n",
       "</div>"
      ],
      "text/plain": [
       "   Airline  Source  Destination  Total stops   Price  Day  Month  Year  Hours  \\\n",
       "0       14       0            3            0  346.14    1      2  2022      9   \n",
       "1       14       0            3            0  324.81    1      2  2022      9   \n",
       "2       14       0            3            0  324.81    1      2  2022      9   \n",
       "3      208       0            3            1  377.19    1      2  2022     11   \n",
       "4      208       0            3            1  381.78    1      2  2022     12   \n",
       "\n",
       "   Minutes  \n",
       "0        0  \n",
       "1        0  \n",
       "2        0  \n",
       "3       30  \n",
       "4       35  "
      ]
     },
     "execution_count": 20,
     "metadata": {},
     "output_type": "execute_result"
    }
   ],
   "source": [
    "model_data.head()"
   ]
  },
  {
   "cell_type": "markdown",
   "id": "6279fc82",
   "metadata": {},
   "source": [
    "As we can see the above data frame has all the values as numerical values which we will use for modelling and use the data to split into training and testing data for further analysis"
   ]
  },
  {
   "cell_type": "markdown",
   "id": "32c0d67f",
   "metadata": {},
   "source": [
    "### Modelling"
   ]
  },
  {
   "cell_type": "code",
   "execution_count": 21,
   "id": "9ea06875",
   "metadata": {},
   "outputs": [],
   "source": [
    "# x variable is our input variable\n",
    "x = model_data.drop(['Price'], axis=1)\n",
    "\n",
    "# y variable is our target variable\n",
    "y = model_data['Price']"
   ]
  },
  {
   "cell_type": "code",
   "execution_count": 22,
   "id": "d74f73d6",
   "metadata": {},
   "outputs": [
    {
     "data": {
      "text/plain": [
       "Index(['Airline', 'Source', 'Destination', 'Total stops', 'Day', 'Month',\n",
       "       'Year', 'Hours', 'Minutes'],\n",
       "      dtype='object')"
      ]
     },
     "execution_count": 22,
     "metadata": {},
     "output_type": "execute_result"
    }
   ],
   "source": [
    "# Column name of input variable\n",
    "x.columns"
   ]
  },
  {
   "cell_type": "code",
   "execution_count": 23,
   "id": "cfb10681",
   "metadata": {},
   "outputs": [
    {
     "data": {
      "text/plain": [
       "0    346.14\n",
       "1    324.81\n",
       "2    324.81\n",
       "3    377.19\n",
       "4    381.78\n",
       "Name: Price, dtype: float64"
      ]
     },
     "execution_count": 23,
     "metadata": {},
     "output_type": "execute_result"
    }
   ],
   "source": [
    "# Target variable\n",
    "y.head()"
   ]
  },
  {
   "cell_type": "code",
   "execution_count": 24,
   "id": "684e8725",
   "metadata": {},
   "outputs": [],
   "source": [
    "# Splitting the data into train test data\n",
    "from sklearn.model_selection import train_test_split\n",
    "\n",
    "X_train , X_test , y_train , y_test = train_test_split(x,y , test_size = 0.20 , random_state = 1)"
   ]
  },
  {
   "cell_type": "markdown",
   "id": "6573d842",
   "metadata": {},
   "source": [
    "This step is important for modelling because we split the data into train and test data. We are using 20% data as test data and 80% as train data of model prediction"
   ]
  },
  {
   "cell_type": "code",
   "execution_count": 25,
   "id": "689c44b0",
   "metadata": {
    "scrolled": true
   },
   "outputs": [
    {
     "name": "stdout",
     "output_type": "stream",
     "text": [
      "      Airline  Source  Destination  Total stops  Day  Month  Year  Hours  \\\n",
      "4130      272       3            0            2   29      4  2022     17   \n",
      "2172      267       3            1            1    1      4  2022      9   \n",
      "6381      147       1            0            2   22      2  2022     17   \n",
      "9301      147       1            0            1    2      3  2022     11   \n",
      "1987      352       1            3            1    8      3  2022      5   \n",
      "...       ...     ...          ...          ...  ...    ...   ...    ...   \n",
      "5251      240       2            0            2   31      3  2022     21   \n",
      "4783      306       1            2            1   25      3  2022     17   \n",
      "82        208       0            1            1    1      2  2022     12   \n",
      "1728      208       1            0            1    6      2  2022     14   \n",
      "5275      171       1            2            1    9      4  2022     11   \n",
      "\n",
      "      Minutes  \n",
      "4130       35  \n",
      "2172       10  \n",
      "6381       15  \n",
      "9301       40  \n",
      "1987       15  \n",
      "...       ...  \n",
      "5251       44  \n",
      "4783       25  \n",
      "82         45  \n",
      "1728       58  \n",
      "5275       15  \n",
      "\n",
      "[44290 rows x 9 columns]\n",
      "      Airline  Source  Destination  Total stops  Day  Month  Year  Hours  \\\n",
      "415       554       1            2            1    5      2  2022     17   \n",
      "980        14       1            3            1   17      2  2022     12   \n",
      "614       434       3            0            2   22      2  2022     18   \n",
      "717        14       1            3            1   13      2  2022      5   \n",
      "4001      208       1            0            1   14      2  2022     12   \n",
      "...       ...     ...          ...          ...  ...    ...   ...    ...   \n",
      "3236       53       3            1            2   21      4  2022     13   \n",
      "1366      800       1            3            1   25      2  2022      7   \n",
      "503       434       2            3            2   19      2  2022     15   \n",
      "411       554       1            2            1    5      2  2022     13   \n",
      "1029      716       0            1            1   17      3  2022     12   \n",
      "\n",
      "      Minutes  \n",
      "415        50  \n",
      "980        10  \n",
      "614        35  \n",
      "717        55  \n",
      "4001        8  \n",
      "...       ...  \n",
      "3236       10  \n",
      "1366       15  \n",
      "503        45  \n",
      "411        55  \n",
      "1029       55  \n",
      "\n",
      "[11073 rows x 9 columns]\n",
      "4130    3141.72\n",
      "2172     117.99\n",
      "6381    2715.66\n",
      "9301    2704.05\n",
      "1987     323.19\n",
      "         ...   \n",
      "5251     922.32\n",
      "4783     631.53\n",
      "82       369.90\n",
      "1728    3201.39\n",
      "5275     544.59\n",
      "Name: Price, Length: 44290, dtype: float64\n",
      "415      632.88\n",
      "980      473.04\n",
      "614     2786.94\n",
      "717      273.51\n",
      "4001    2707.83\n",
      "         ...   \n",
      "3236    1241.46\n",
      "1366     245.43\n",
      "503     3778.38\n",
      "411      632.88\n",
      "1029     417.42\n",
      "Name: Price, Length: 11073, dtype: float64\n"
     ]
    }
   ],
   "source": [
    "print(X_train)\n",
    "print(X_test)\n",
    "print(y_train)\n",
    "print(y_test)"
   ]
  },
  {
   "cell_type": "code",
   "execution_count": 26,
   "id": "a3d34000",
   "metadata": {},
   "outputs": [],
   "source": [
    "# creating a function to retunr the metrices\n",
    "metrics_lst = []\n",
    "    \n",
    "def get_metrics(model):\n",
    "    global metrics_lst  # Declare metrics_lst as global\n",
    "    \n",
    "    train_score = model.score(X_train, y_train) * 100\n",
    "    test_score = model.score(X_test, y_test) * 100\n",
    "    mae = metrics.mean_absolute_error(y_test , model.predict(X_test))\n",
    "    mse = metrics.mean_squared_error(y_test, model.predict(X_test))\n",
    "    rmse = np.sqrt(mse)\n",
    "    r2 = r2_score(y_test, model.predict(X_test))\n",
    "   \n",
    "    temp_list = [train_score, test_score, mae, mse, rmse, r2]\n",
    "    \n",
    "    metrics_lst.extend([temp_list])  # Use extend instead of list comprehension\n",
    "\n",
    "    print(f'Train score: {train_score}')\n",
    "    print(f'Test score: {test_score}')\n",
    "    print(\"MAE:\", mae)\n",
    "    print(\"MSE:\", mse)\n",
    "    print(\"RMSE:\", rmse)\n",
    "    print(\"Coefficient of Determination:\", r2)"
   ]
  },
  {
   "cell_type": "markdown",
   "id": "31acf3e1",
   "metadata": {},
   "source": [
    "The above function will return us the metrics such as 'Train Score', 'Test Score:'\n",
    "'Mean Absolute Error', 'Mean Squared Error (MSE)', 'Root Mean Squared Error (RMSE)', 'R-squared (R2)' this provided model evaluation metrics will \n",
    "help us to select the best model."
   ]
  },
  {
   "cell_type": "markdown",
   "id": "e6b368a9",
   "metadata": {},
   "source": [
    "### Multiple Linear Regression"
   ]
  },
  {
   "cell_type": "code",
   "execution_count": 27,
   "id": "bcf1bd5c",
   "metadata": {},
   "outputs": [
    {
     "name": "stdout",
     "output_type": "stream",
     "text": [
      "Train score: 9.933997543584972\n",
      "Test score: 8.92457122691469\n",
      "MAE: 783.6711418675537\n",
      "MSE: 1452167.3592384243\n",
      "RMSE: 1205.0590687756448\n",
      "Coefficient of Determination: 0.0892457122691469\n"
     ]
    }
   ],
   "source": [
    "from sklearn.linear_model import LinearRegression\n",
    "\n",
    "multiReg_model = LinearRegression()\n",
    "multiReg_model.fit(X_train , y_train)\n",
    "get_metrics(multiReg_model)"
   ]
  },
  {
   "cell_type": "markdown",
   "id": "31991292",
   "metadata": {},
   "source": [
    "### Lasso Regression"
   ]
  },
  {
   "cell_type": "code",
   "execution_count": 28,
   "id": "72f82ada",
   "metadata": {},
   "outputs": [
    {
     "name": "stdout",
     "output_type": "stream",
     "text": [
      "Train score: 9.93341378416086\n",
      "Test score: 8.928560163668664\n",
      "MAE: 783.8584784611016\n",
      "MSE: 1452103.7569712682\n",
      "RMSE: 1205.0326787980764\n",
      "Coefficient of Determination: 0.08928560163668664\n"
     ]
    }
   ],
   "source": [
    "from sklearn.linear_model import Lasso\n",
    "\n",
    "lasso_model = Lasso()\n",
    "lasso_model.fit(X_train, y_train)\n",
    "get_metrics(lasso_model)"
   ]
  },
  {
   "cell_type": "markdown",
   "id": "d7cf79ec",
   "metadata": {},
   "source": [
    "### Random Forest"
   ]
  },
  {
   "cell_type": "code",
   "execution_count": 29,
   "id": "1b320bcf",
   "metadata": {
    "scrolled": true
   },
   "outputs": [
    {
     "name": "stdout",
     "output_type": "stream",
     "text": [
      "Train score: 97.67439072633522\n",
      "Test score: 89.73302830227412\n",
      "MAE: 102.40468435412318\n",
      "MSE: 163703.44206458746\n",
      "RMSE: 404.60282013919215\n",
      "Coefficient of Determination: 0.8973302830227412\n"
     ]
    }
   ],
   "source": [
    "from sklearn.ensemble import RandomForestRegressor, RandomForestClassifier\n",
    "\n",
    "randomForest = RandomForestRegressor()\n",
    "randomForest.fit(X_train, y_train)\n",
    "get_metrics(randomForest)"
   ]
  },
  {
   "cell_type": "markdown",
   "id": "2790d3bf",
   "metadata": {},
   "source": [
    "#### Using manual debugging to check our prediction"
   ]
  },
  {
   "cell_type": "code",
   "execution_count": 30,
   "id": "6ba80141",
   "metadata": {
    "scrolled": false
   },
   "outputs": [
    {
     "data": {
      "text/plain": [
       "Airline         718.00\n",
       "Source            0.00\n",
       "Destination       3.00\n",
       "Total stops       2.00\n",
       "Price          3229.74\n",
       "Day              25.00\n",
       "Month             2.00\n",
       "Year           2022.00\n",
       "Hours            20.00\n",
       "Minutes          46.00\n",
       "Name: 500, dtype: float64"
      ]
     },
     "execution_count": 30,
     "metadata": {},
     "output_type": "execute_result"
    }
   ],
   "source": [
    "model_data.iloc[500]"
   ]
  },
  {
   "cell_type": "markdown",
   "id": "c232c856",
   "metadata": {},
   "source": [
    "Inserting the input variable values into a list and predict price to check our prediction value."
   ]
  },
  {
   "cell_type": "code",
   "execution_count": 31,
   "id": "607c87fe",
   "metadata": {
    "scrolled": true
   },
   "outputs": [
    {
     "name": "stderr",
     "output_type": "stream",
     "text": [
      "C:\\Users\\Atharva\\anaconda3\\lib\\site-packages\\sklearn\\base.py:420: UserWarning: X does not have valid feature names, but RandomForestRegressor was fitted with feature names\n",
      "  warnings.warn(\n"
     ]
    },
    {
     "data": {
      "text/plain": [
       "array([3241.809])"
      ]
     },
     "execution_count": 31,
     "metadata": {},
     "output_type": "execute_result"
    }
   ],
   "source": [
    "randomForest.predict([[718, 0, 3, 2, 25,2,2022,20,46]])"
   ]
  },
  {
   "cell_type": "markdown",
   "id": "c116e7da",
   "metadata": {},
   "source": [
    "As we can see in the above output the predicted price for unique values of input variables which we extracted the predicted price is 3237.435 very close to actual price 3229.74 so the result is accurate."
   ]
  },
  {
   "cell_type": "markdown",
   "id": "b8ec4387",
   "metadata": {},
   "source": [
    "### Decision Tree"
   ]
  },
  {
   "cell_type": "code",
   "execution_count": 32,
   "id": "cf603057",
   "metadata": {
    "scrolled": true
   },
   "outputs": [
    {
     "name": "stdout",
     "output_type": "stream",
     "text": [
      "Train score: 98.73655186774727\n",
      "Test score: 86.28513034163768\n",
      "MAE: 91.41243296435378\n",
      "MSE: 218679.02597202893\n",
      "RMSE: 467.6312927638921\n",
      "Coefficient of Determination: 0.8628513034163768\n"
     ]
    }
   ],
   "source": [
    "from sklearn.tree import DecisionTreeRegressor\n",
    "\n",
    "Descision_Tree_Reg = DecisionTreeRegressor()\n",
    "Descision_Tree_Reg.fit(X_train, y_train)\n",
    "get_metrics(Descision_Tree_Reg)"
   ]
  },
  {
   "cell_type": "markdown",
   "id": "55f5f810",
   "metadata": {},
   "source": [
    "#### Using manual debugging to check our prediction"
   ]
  },
  {
   "cell_type": "code",
   "execution_count": 33,
   "id": "c65f33ed",
   "metadata": {
    "scrolled": false
   },
   "outputs": [
    {
     "data": {
      "text/plain": [
       "Airline         269.00\n",
       "Source            0.00\n",
       "Destination       3.00\n",
       "Total stops       1.00\n",
       "Price           484.92\n",
       "Day               1.00\n",
       "Month             2.00\n",
       "Year           2022.00\n",
       "Hours            15.00\n",
       "Minutes          15.00\n",
       "Name: 10, dtype: float64"
      ]
     },
     "execution_count": 33,
     "metadata": {},
     "output_type": "execute_result"
    }
   ],
   "source": [
    "model_data.iloc[10]"
   ]
  },
  {
   "cell_type": "markdown",
   "id": "f28904f8",
   "metadata": {},
   "source": [
    "Inserting the input variable values into a list and predict price to check our prediction value."
   ]
  },
  {
   "cell_type": "code",
   "execution_count": 34,
   "id": "a6064298",
   "metadata": {
    "scrolled": true
   },
   "outputs": [
    {
     "name": "stderr",
     "output_type": "stream",
     "text": [
      "C:\\Users\\Atharva\\anaconda3\\lib\\site-packages\\sklearn\\base.py:420: UserWarning: X does not have valid feature names, but RandomForestRegressor was fitted with feature names\n",
      "  warnings.warn(\n"
     ]
    },
    {
     "data": {
      "text/plain": [
       "array([511.0074])"
      ]
     },
     "execution_count": 34,
     "metadata": {},
     "output_type": "execute_result"
    }
   ],
   "source": [
    "randomForest.predict([[269, 0,3,1,1,2,2022,15,15]])"
   ]
  },
  {
   "cell_type": "markdown",
   "id": "e0d42bd2",
   "metadata": {},
   "source": [
    "As we can see in the above output, the projected price for unique values of input variables that we extracted is 499.9131, which is extremely close to the real price of 484, indicating that the result is correct."
   ]
  },
  {
   "cell_type": "markdown",
   "id": "030ad5f5",
   "metadata": {},
   "source": [
    "### Model comparision"
   ]
  },
  {
   "cell_type": "code",
   "execution_count": 35,
   "id": "62df79eb",
   "metadata": {},
   "outputs": [
    {
     "data": {
      "text/html": [
       "<div>\n",
       "<style scoped>\n",
       "    .dataframe tbody tr th:only-of-type {\n",
       "        vertical-align: middle;\n",
       "    }\n",
       "\n",
       "    .dataframe tbody tr th {\n",
       "        vertical-align: top;\n",
       "    }\n",
       "\n",
       "    .dataframe thead th {\n",
       "        text-align: right;\n",
       "    }\n",
       "</style>\n",
       "<table border=\"1\" class=\"dataframe\">\n",
       "  <thead>\n",
       "    <tr style=\"text-align: right;\">\n",
       "      <th></th>\n",
       "      <th>Model</th>\n",
       "      <th>Train Score</th>\n",
       "      <th>Test Score</th>\n",
       "      <th>Mean Absolute Error</th>\n",
       "      <th>Mean Squared Error</th>\n",
       "      <th>RMSE</th>\n",
       "      <th>R2</th>\n",
       "      <th>Train_Score</th>\n",
       "    </tr>\n",
       "  </thead>\n",
       "  <tbody>\n",
       "    <tr>\n",
       "      <th>0</th>\n",
       "      <td>Multiple Regression</td>\n",
       "      <td>9.933998</td>\n",
       "      <td>8.924571</td>\n",
       "      <td>783.671142</td>\n",
       "      <td>1.452167e+06</td>\n",
       "      <td>1205.059069</td>\n",
       "      <td>0.089246</td>\n",
       "      <td>9.933998</td>\n",
       "    </tr>\n",
       "    <tr>\n",
       "      <th>1</th>\n",
       "      <td>Lasso Regression</td>\n",
       "      <td>9.933414</td>\n",
       "      <td>8.928560</td>\n",
       "      <td>783.858478</td>\n",
       "      <td>1.452104e+06</td>\n",
       "      <td>1205.032679</td>\n",
       "      <td>0.089286</td>\n",
       "      <td>9.933414</td>\n",
       "    </tr>\n",
       "    <tr>\n",
       "      <th>2</th>\n",
       "      <td>Random Forest</td>\n",
       "      <td>97.674391</td>\n",
       "      <td>89.733028</td>\n",
       "      <td>102.404684</td>\n",
       "      <td>1.637034e+05</td>\n",
       "      <td>404.602820</td>\n",
       "      <td>0.897330</td>\n",
       "      <td>97.674391</td>\n",
       "    </tr>\n",
       "    <tr>\n",
       "      <th>3</th>\n",
       "      <td>Descision Tree</td>\n",
       "      <td>98.736552</td>\n",
       "      <td>86.285130</td>\n",
       "      <td>91.412433</td>\n",
       "      <td>2.186790e+05</td>\n",
       "      <td>467.631293</td>\n",
       "      <td>0.862851</td>\n",
       "      <td>98.736552</td>\n",
       "    </tr>\n",
       "  </tbody>\n",
       "</table>\n",
       "</div>"
      ],
      "text/plain": [
       "                 Model  Train Score  Test Score  Mean Absolute Error  \\\n",
       "0  Multiple Regression     9.933998    8.924571           783.671142   \n",
       "1     Lasso Regression     9.933414    8.928560           783.858478   \n",
       "2        Random Forest    97.674391   89.733028           102.404684   \n",
       "3       Descision Tree    98.736552   86.285130            91.412433   \n",
       "\n",
       "   Mean Squared Error         RMSE        R2  Train_Score  \n",
       "0        1.452167e+06  1205.059069  0.089246     9.933998  \n",
       "1        1.452104e+06  1205.032679  0.089286     9.933414  \n",
       "2        1.637034e+05   404.602820  0.897330    97.674391  \n",
       "3        2.186790e+05   467.631293  0.862851    98.736552  "
      ]
     },
     "execution_count": 35,
     "metadata": {},
     "output_type": "execute_result"
    }
   ],
   "source": [
    "# Creating a table considering all the important matrices to compare the model to select the best model\n",
    "columns = ['Train Score', 'Test Score','Mean Absolute Error','Mean Squared Error','RMSE','R2']\n",
    "\n",
    "df = pd.DataFrame(metrics_lst,columns = columns)\n",
    "df['Train_Score'] = df['Train Score']\n",
    "df['Test Score'] = df['Test Score'] \n",
    "\n",
    "new_col_model = ['Multiple Regression' , 'Lasso Regression' ,  'Random Forest' , 'Descision Tree'  ]\n",
    "df.insert(loc=0, column='Model', value=new_col_model)\n",
    "\n",
    "df.head()"
   ]
  },
  {
   "cell_type": "markdown",
   "id": "c9a7ea1d",
   "metadata": {},
   "source": [
    "## Best Model Selection"
   ]
  },
  {
   "cell_type": "markdown",
   "id": "65b2340c",
   "metadata": {},
   "source": [
    "from the above table and provided models, the best model appears to be the Random Forest, while the worst model is the Multiple Regression and Lasso regression.\n",
    "\n",
    "In brief the Random Forest is the Best Model because the Random Forest model achieved the highest test score of 89.71%, indicating its ability to generalize well to unseen data.\n",
    "R-squared It also has the highest R2 value of 0.897, suggesting that approximately 89.7% of the variance in the target variable is explained by the model. Mean Absolute Error (MAE), Mean Squared Error (MSE), and Root Mean Squared Error (RMSE). These metrics are significantly lower compared to other models, indicating smaller prediction errors and better overall performance.\n",
    "\n",
    "Multiple Regression is the worst model for predicting the price of airline fare Multiple Linear Regression is a simple and interpretable model, its limitations in handling complex relationships can result in poor predictive performance, especially in datasets with nonlinear and intricate patterns. Test Score: The Multiple Regression model has the lowest test score of 8.92%, indicating poor performance in predicting flight prices on unseen data.\n",
    "R-squared (R2): It also has the lowest R2 value of 0.089, indicating that only around 8.9% of the variance in the target variable is explained by the model.\n",
    "Mean Absolute Error (MAE), Mean Squared Error (MSE), and Root Mean Squared Error (RMSE): These metrics are considerably higher compared to other models, indicating larger prediction errors and poorer performance overall."
   ]
  },
  {
   "cell_type": "markdown",
   "id": "8edb221f",
   "metadata": {},
   "source": [
    "## Result-  Random Forest is the best model with accuracy of 89.95 %\n",
    "\n",
    "##### Random forest performs the best giving us the accuracy of 89.95 % for Test data and 97.63 % for Train data. The R squared value of the model Random Forest model is 0.899 highest among all other models.  a higher R2 value suggests that the independent variable(s) are more effective at explaining the variability in the dependent variable, while a lower R2 value indicates that the independent variable(s) are less effective at explaining the variability.  Mean Absolute Error (MAE): 101.86 , Mean Squared Error (MSE): 1.603204e+05 , and Root Mean Squared Error (RMSE): 400.400311 these  values are relatively low compared to other model values. When these metrics values are significantly lower compared to other models, it indicates that the model's predictions are closer to the actual values on average, suggesting better overall performance in terms of prediction accuracy. Lower values of MAE, MSE, and RMSE imply smaller prediction errors, which means that the model is making more accurate predictions compared to other models being evaluated. So we come to a conclusion that the Random Forest is the best model."
   ]
  },
  {
   "cell_type": "markdown",
   "id": "efe0de72",
   "metadata": {},
   "source": [
    "# Data Visualisation"
   ]
  },
  {
   "cell_type": "code",
   "execution_count": 36,
   "id": "e191f5bb",
   "metadata": {},
   "outputs": [
    {
     "data": {
      "text/html": [
       "<div>\n",
       "<style scoped>\n",
       "    .dataframe tbody tr th:only-of-type {\n",
       "        vertical-align: middle;\n",
       "    }\n",
       "\n",
       "    .dataframe tbody tr th {\n",
       "        vertical-align: top;\n",
       "    }\n",
       "\n",
       "    .dataframe thead th {\n",
       "        text-align: right;\n",
       "    }\n",
       "</style>\n",
       "<table border=\"1\" class=\"dataframe\">\n",
       "  <thead>\n",
       "    <tr style=\"text-align: right;\">\n",
       "      <th></th>\n",
       "      <th>Airline</th>\n",
       "      <th>Source</th>\n",
       "      <th>Destination</th>\n",
       "      <th>Total stops</th>\n",
       "      <th>Price</th>\n",
       "      <th>Day</th>\n",
       "      <th>Month</th>\n",
       "      <th>Year</th>\n",
       "      <th>Hours</th>\n",
       "      <th>Minutes</th>\n",
       "    </tr>\n",
       "  </thead>\n",
       "  <tbody>\n",
       "    <tr>\n",
       "      <th>0</th>\n",
       "      <td>Aeroflot</td>\n",
       "      <td>NYC</td>\n",
       "      <td>SVO</td>\n",
       "      <td>nonstop</td>\n",
       "      <td>346.14</td>\n",
       "      <td>1</td>\n",
       "      <td>2</td>\n",
       "      <td>2022</td>\n",
       "      <td>9</td>\n",
       "      <td>0</td>\n",
       "    </tr>\n",
       "    <tr>\n",
       "      <th>1</th>\n",
       "      <td>Aeroflot</td>\n",
       "      <td>NYC</td>\n",
       "      <td>SVO</td>\n",
       "      <td>nonstop</td>\n",
       "      <td>324.81</td>\n",
       "      <td>1</td>\n",
       "      <td>2</td>\n",
       "      <td>2022</td>\n",
       "      <td>9</td>\n",
       "      <td>0</td>\n",
       "    </tr>\n",
       "    <tr>\n",
       "      <th>2</th>\n",
       "      <td>Aeroflot</td>\n",
       "      <td>NYC</td>\n",
       "      <td>SVO</td>\n",
       "      <td>nonstop</td>\n",
       "      <td>324.81</td>\n",
       "      <td>1</td>\n",
       "      <td>2</td>\n",
       "      <td>2022</td>\n",
       "      <td>9</td>\n",
       "      <td>0</td>\n",
       "    </tr>\n",
       "    <tr>\n",
       "      <th>3</th>\n",
       "      <td>Delta</td>\n",
       "      <td>NYC</td>\n",
       "      <td>SVO</td>\n",
       "      <td>1 stop</td>\n",
       "      <td>377.19</td>\n",
       "      <td>1</td>\n",
       "      <td>2</td>\n",
       "      <td>2022</td>\n",
       "      <td>11</td>\n",
       "      <td>30</td>\n",
       "    </tr>\n",
       "    <tr>\n",
       "      <th>4</th>\n",
       "      <td>Delta</td>\n",
       "      <td>NYC</td>\n",
       "      <td>SVO</td>\n",
       "      <td>1 stop</td>\n",
       "      <td>381.78</td>\n",
       "      <td>1</td>\n",
       "      <td>2</td>\n",
       "      <td>2022</td>\n",
       "      <td>12</td>\n",
       "      <td>35</td>\n",
       "    </tr>\n",
       "  </tbody>\n",
       "</table>\n",
       "</div>"
      ],
      "text/plain": [
       "    Airline Source Destination Total stops   Price  Day  Month  Year  Hours  \\\n",
       "0  Aeroflot    NYC         SVO    nonstop   346.14    1      2  2022      9   \n",
       "1  Aeroflot    NYC         SVO    nonstop   324.81    1      2  2022      9   \n",
       "2  Aeroflot    NYC         SVO    nonstop   324.81    1      2  2022      9   \n",
       "3     Delta    NYC         SVO     1 stop   377.19    1      2  2022     11   \n",
       "4     Delta    NYC         SVO     1 stop   381.78    1      2  2022     12   \n",
       "\n",
       "   Minutes  \n",
       "0        0  \n",
       "1        0  \n",
       "2        0  \n",
       "3       30  \n",
       "4       35  "
      ]
     },
     "execution_count": 36,
     "metadata": {},
     "output_type": "execute_result"
    }
   ],
   "source": [
    "data.head()"
   ]
  },
  {
   "cell_type": "code",
   "execution_count": 37,
   "id": "90f86618",
   "metadata": {},
   "outputs": [
    {
     "data": {
      "image/png": "[encoded data removed]",
      "text/plain": [
       "<Figure size 1200x600 with 1 Axes>"
      ]
     },
     "metadata": {},
     "output_type": "display_data"
    }
   ],
   "source": [
    "month_price = data.groupby(['Month'])['Price'].mean().reset_index()\n",
    "month_price.drop(columns = ['Month'], inplace = True)\n",
    "\n",
    "new_col_model = ['February' , 'March' ,  'April']\n",
    "month_price.insert(loc=0, column='Month', value = new_col_model)\n",
    "month_price\n",
    "\n",
    "plt.figure(figsize = (12,6))\n",
    "plt.bar( month_price['Month'] , month_price['Price'], color = 'royalBlue', width = 0.6, alpha = 0.4)\n",
    "plt.title('Mean Price VS Month')\n",
    "plt.xlabel(\"Month\")\n",
    "plt.ylabel(\"Average Price\")\n",
    "plt.show()"
   ]
  },
  {
   "cell_type": "code",
   "execution_count": 38,
   "id": "e54e13b4",
   "metadata": {},
   "outputs": [
    {
     "data": {
      "image/png": "[encoded data removed]",
      "text/plain": [
       "<Figure size 1200x600 with 1 Axes>"
      ]
     },
     "metadata": {},
     "output_type": "display_data"
    }
   ],
   "source": [
    "stop_price = data.groupby(['Total stops'])['Price'].mean().reset_index()\n",
    "\n",
    "plt.figure(figsize = (12,6))\n",
    "plt.bar( stop_price['Total stops'] , stop_price['Price'] , color = 'RebeccaPurple' , width = 0.5 , alpha = 0.3)\n",
    "plt.title('Price VS Stops')\n",
    "plt.xlabel('Stops')\n",
    "plt.ylabel(\"Price\")\n",
    "plt.show()"
   ]
  },
  {
   "cell_type": "markdown",
   "id": "8bd7c89f",
   "metadata": {},
   "source": [
    "## Total count of flight from Source"
   ]
  },
  {
   "cell_type": "code",
   "execution_count": 39,
   "id": "2a4165c7",
   "metadata": {},
   "outputs": [
    {
     "data": {
      "image/png": "[encoded data removed]",
      "text/plain": [
       "<Figure size 2000x1000 with 1 Axes>"
      ]
     },
     "metadata": {},
     "output_type": "display_data"
    }
   ],
   "source": [
    "no_of_flights_each_route = data['Source'].value_counts()\n",
    "\n",
    "plt.figure(figsize = (20,10))\n",
    "plt.bar( no_of_flights_each_route.index , no_of_flights_each_route.values , color = 'red', alpha = 0.4)\n",
    "plt.title('Count of number of flight from Source')\n",
    "plt.xlabel('Source')\n",
    "plt.ylabel('Count of Flight')\n",
    "plt.show()"
   ]
  },
  {
   "cell_type": "markdown",
   "id": "22f164ed",
   "metadata": {},
   "source": [
    "## Total count of flight to destination"
   ]
  },
  {
   "cell_type": "code",
   "execution_count": 40,
   "id": "4b1c8d55",
   "metadata": {},
   "outputs": [
    {
     "data": {
      "image/png": "[encoded data removed]",
      "text/plain": [
       "<Figure size 2000x1000 with 1 Axes>"
      ]
     },
     "metadata": {},
     "output_type": "display_data"
    }
   ],
   "source": [
    "no_of_flights_each_route = data['Destination'].value_counts()\n",
    "\n",
    "plt.figure(figsize = (20,10))\n",
    "plt.bar( no_of_flights_each_route.index , no_of_flights_each_route.values , color = 'orange', alpha = 0.5)\n",
    "plt.title('Count of number of flight to Destination')\n",
    "plt.xlabel('Destination')\n",
    "plt.ylabel(\"Count of Flight\")\n",
    "plt.show()"
   ]
  },
  {
   "cell_type": "markdown",
   "id": "8467178e",
   "metadata": {},
   "source": [
    "## Route vs Mean price"
   ]
  },
  {
   "cell_type": "code",
   "execution_count": 41,
   "id": "1e4f8b4d",
   "metadata": {
    "scrolled": false
   },
   "outputs": [
    {
     "data": {
      "text/html": [
       "<div>\n",
       "<style scoped>\n",
       "    .dataframe tbody tr th:only-of-type {\n",
       "        vertical-align: middle;\n",
       "    }\n",
       "\n",
       "    .dataframe tbody tr th {\n",
       "        vertical-align: top;\n",
       "    }\n",
       "\n",
       "    .dataframe thead th {\n",
       "        text-align: right;\n",
       "    }\n",
       "</style>\n",
       "<table border=\"1\" class=\"dataframe\">\n",
       "  <thead>\n",
       "    <tr style=\"text-align: right;\">\n",
       "      <th></th>\n",
       "      <th>Route</th>\n",
       "      <th>Price</th>\n",
       "    </tr>\n",
       "  </thead>\n",
       "  <tbody>\n",
       "    <tr>\n",
       "      <th>0</th>\n",
       "      <td>NYC-&gt;PAR</td>\n",
       "      <td>544.298031</td>\n",
       "    </tr>\n",
       "    <tr>\n",
       "      <th>1</th>\n",
       "      <td>NYC-&gt;RUH</td>\n",
       "      <td>1474.502602</td>\n",
       "    </tr>\n",
       "    <tr>\n",
       "      <th>2</th>\n",
       "      <td>NYC-&gt;SVO</td>\n",
       "      <td>1172.438929</td>\n",
       "    </tr>\n",
       "    <tr>\n",
       "      <th>3</th>\n",
       "      <td>PAR-&gt;NYC</td>\n",
       "      <td>1965.360337</td>\n",
       "    </tr>\n",
       "    <tr>\n",
       "      <th>4</th>\n",
       "      <td>PAR-&gt;RUH</td>\n",
       "      <td>855.259805</td>\n",
       "    </tr>\n",
       "    <tr>\n",
       "      <th>5</th>\n",
       "      <td>PAR-&gt;SVO</td>\n",
       "      <td>382.272697</td>\n",
       "    </tr>\n",
       "    <tr>\n",
       "      <th>6</th>\n",
       "      <td>RUH-&gt;NYC</td>\n",
       "      <td>1189.855318</td>\n",
       "    </tr>\n",
       "    <tr>\n",
       "      <th>7</th>\n",
       "      <td>RUH-&gt;PAR</td>\n",
       "      <td>616.664864</td>\n",
       "    </tr>\n",
       "    <tr>\n",
       "      <th>8</th>\n",
       "      <td>RUH-&gt;SVO</td>\n",
       "      <td>939.966903</td>\n",
       "    </tr>\n",
       "    <tr>\n",
       "      <th>9</th>\n",
       "      <td>SVO-&gt;NYC</td>\n",
       "      <td>1567.076466</td>\n",
       "    </tr>\n",
       "    <tr>\n",
       "      <th>10</th>\n",
       "      <td>SVO-&gt;PAR</td>\n",
       "      <td>502.768597</td>\n",
       "    </tr>\n",
       "    <tr>\n",
       "      <th>11</th>\n",
       "      <td>SVO-&gt;RUH</td>\n",
       "      <td>1235.791570</td>\n",
       "    </tr>\n",
       "  </tbody>\n",
       "</table>\n",
       "</div>"
      ],
      "text/plain": [
       "       Route        Price\n",
       "0   NYC->PAR   544.298031\n",
       "1   NYC->RUH  1474.502602\n",
       "2   NYC->SVO  1172.438929\n",
       "3   PAR->NYC  1965.360337\n",
       "4   PAR->RUH   855.259805\n",
       "5   PAR->SVO   382.272697\n",
       "6   RUH->NYC  1189.855318\n",
       "7   RUH->PAR   616.664864\n",
       "8   RUH->SVO   939.966903\n",
       "9   SVO->NYC  1567.076466\n",
       "10  SVO->PAR   502.768597\n",
       "11  SVO->RUH  1235.791570"
      ]
     },
     "execution_count": 41,
     "metadata": {},
     "output_type": "execute_result"
    }
   ],
   "source": [
    "comparision = data.groupby(by=['Source' , 'Destination'])['Price'].mean().reset_index()\n",
    "table_route = pd.DataFrame()\n",
    "table_route['Route'] = comparision['Source'] + '->' + comparision['Destination']\n",
    "table_route['Price'] = comparision['Price']\n",
    "table_route.head(15)"
   ]
  },
  {
   "cell_type": "code",
   "execution_count": 42,
   "id": "4b115340",
   "metadata": {},
   "outputs": [
    {
     "data": {
      "image/png": "[encoded data removed]",
      "text/plain": [
       "<Figure size 1500x1000 with 1 Axes>"
      ]
     },
     "metadata": {},
     "output_type": "display_data"
    }
   ],
   "source": [
    "# grouped_data = comp_table.groupby(['Source' , 'Destination'])['Price'].mean().reset_index()\n",
    "\n",
    "# # Plotting\n",
    "plt.figure(figsize=(15, 10))\n",
    "plt.bar(table_route['Route'] , table_route['Price'], color = 'blue', alpha = 0.4)\n",
    "plt.xlabel('Route', fontsize=14)\n",
    "plt.ylabel('Price', fontsize=14)\n",
    "plt.title('Route VS Price', fontsize=16)\n",
    "plt.show()"
   ]
  },
  {
   "cell_type": "markdown",
   "id": "858ad39b",
   "metadata": {},
   "source": [
    "### Counts of flight on each Route"
   ]
  },
  {
   "cell_type": "code",
   "execution_count": 43,
   "id": "773f1661",
   "metadata": {},
   "outputs": [],
   "source": [
    "temp_data = pd.DataFrame()\n",
    "temp_data['Route'] = data['Source'] + '->' + data['Destination']\n",
    "temp_data = temp_data.groupby('Route').value_counts()"
   ]
  },
  {
   "cell_type": "code",
   "execution_count": 44,
   "id": "6b8df3e3",
   "metadata": {},
   "outputs": [
    {
     "data": {
      "image/png": "[encoded data removed]",
      "text/plain": [
       "<Figure size 1500x1000 with 1 Axes>"
      ]
     },
     "metadata": {},
     "output_type": "display_data"
    }
   ],
   "source": [
    "plt.figure(figsize = (15,10))\n",
    "plt.bar( temp_data.index , temp_data.values , color = 'pink', alpha = 0.7)\n",
    "plt.title('Counts of flight on each Route', fontsize=16)\n",
    "plt.xlabel(\"Route\" , fontsize=14)\n",
    "plt.ylabel(\"Count Of Flights\" , fontsize=14)\n",
    "plt.show()"
   ]
  },
  {
   "cell_type": "markdown",
   "id": "9146e091",
   "metadata": {},
   "source": [
    "### Box plot of top 10 Airline by Flight Count"
   ]
  },
  {
   "cell_type": "code",
   "execution_count": 45,
   "id": "4d57f062",
   "metadata": {},
   "outputs": [
    {
     "data": {
      "text/plain": [
       "Index(['Airline', 'Source', 'Destination', 'Total stops', 'Price', 'Day',\n",
       "       'Month', 'Year', 'Hours', 'Minutes'],\n",
       "      dtype='object')"
      ]
     },
     "execution_count": 45,
     "metadata": {},
     "output_type": "execute_result"
    }
   ],
   "source": [
    "data.columns"
   ]
  },
  {
   "cell_type": "code",
   "execution_count": 46,
   "id": "84d8779c",
   "metadata": {},
   "outputs": [
    {
     "data": {
      "text/html": [
       "<div>\n",
       "<style scoped>\n",
       "    .dataframe tbody tr th:only-of-type {\n",
       "        vertical-align: middle;\n",
       "    }\n",
       "\n",
       "    .dataframe tbody tr th {\n",
       "        vertical-align: top;\n",
       "    }\n",
       "\n",
       "    .dataframe thead th {\n",
       "        text-align: right;\n",
       "    }\n",
       "</style>\n",
       "<table border=\"1\" class=\"dataframe\">\n",
       "  <thead>\n",
       "    <tr style=\"text-align: right;\">\n",
       "      <th></th>\n",
       "      <th>index</th>\n",
       "      <th>Airline</th>\n",
       "    </tr>\n",
       "  </thead>\n",
       "  <tbody>\n",
       "    <tr>\n",
       "      <th>0</th>\n",
       "      <td>Delta</td>\n",
       "      <td>4486</td>\n",
       "    </tr>\n",
       "    <tr>\n",
       "      <th>1</th>\n",
       "      <td>KLM</td>\n",
       "      <td>3165</td>\n",
       "    </tr>\n",
       "    <tr>\n",
       "      <th>2</th>\n",
       "      <td>American Airlines</td>\n",
       "      <td>3150</td>\n",
       "    </tr>\n",
       "    <tr>\n",
       "      <th>3</th>\n",
       "      <td>Lufthansa</td>\n",
       "      <td>2691</td>\n",
       "    </tr>\n",
       "    <tr>\n",
       "      <th>4</th>\n",
       "      <td>Multiple Airlines</td>\n",
       "      <td>2657</td>\n",
       "    </tr>\n",
       "    <tr>\n",
       "      <th>5</th>\n",
       "      <td>Air France</td>\n",
       "      <td>2360</td>\n",
       "    </tr>\n",
       "    <tr>\n",
       "      <th>6</th>\n",
       "      <td>Air Canada</td>\n",
       "      <td>2201</td>\n",
       "    </tr>\n",
       "    <tr>\n",
       "      <th>7</th>\n",
       "      <td>United Airlines</td>\n",
       "      <td>1917</td>\n",
       "    </tr>\n",
       "    <tr>\n",
       "      <th>8</th>\n",
       "      <td>British Airways</td>\n",
       "      <td>1756</td>\n",
       "    </tr>\n",
       "    <tr>\n",
       "      <th>9</th>\n",
       "      <td>Qatar Airways</td>\n",
       "      <td>1464</td>\n",
       "    </tr>\n",
       "  </tbody>\n",
       "</table>\n",
       "</div>"
      ],
      "text/plain": [
       "               index  Airline\n",
       "0              Delta     4486\n",
       "1                KLM     3165\n",
       "2  American Airlines     3150\n",
       "3          Lufthansa     2691\n",
       "4  Multiple Airlines     2657\n",
       "5         Air France     2360\n",
       "6         Air Canada     2201\n",
       "7    United Airlines     1917\n",
       "8    British Airways     1756\n",
       "9      Qatar Airways     1464"
      ]
     },
     "execution_count": 46,
     "metadata": {},
     "output_type": "execute_result"
    }
   ],
   "source": [
    "df = data['Airline'].value_counts()\n",
    "df = df.head(10)\n",
    "df.reset_index()"
   ]
  },
  {
   "cell_type": "code",
   "execution_count": 47,
   "id": "314d7f7f",
   "metadata": {},
   "outputs": [],
   "source": [
    "top_airline_by_count = []\n",
    "for i in df.index:\n",
    "    top_airline_by_count.append(i)"
   ]
  },
  {
   "cell_type": "code",
   "execution_count": 48,
   "id": "c13ffe5c",
   "metadata": {},
   "outputs": [],
   "source": [
    "top_airline = pd.DataFrame()\n",
    "filtered_rows = []\n",
    "\n",
    "# Iterate over the rows of the DataFrame\n",
    "for index, row in data.iterrows():\n",
    "    if row['Airline'] in top_airline_by_count:\n",
    "        \n",
    "        # If the airline is in the list of top airlines, append the row to filtered_rows\n",
    "        filtered_rows.append({'Airline': row['Airline'], 'Price': row['Price']})\n",
    "\n",
    "# Create a DataFrame from the filtered rows\n",
    "top_airline = pd.DataFrame(filtered_rows)\n"
   ]
  },
  {
   "cell_type": "code",
   "execution_count": 49,
   "id": "be5e8a63",
   "metadata": {},
   "outputs": [
    {
     "data": {
      "text/plain": [
       "array(['Delta', 'KLM', 'Air France', 'Multiple Airlines', 'Qatar Airways',\n",
       "       'Lufthansa', 'British Airways', 'Air Canada', 'American Airlines',\n",
       "       'United Airlines'], dtype=object)"
      ]
     },
     "execution_count": 49,
     "metadata": {},
     "output_type": "execute_result"
    }
   ],
   "source": [
    "top_airline['Airline'].unique()"
   ]
  },
  {
   "cell_type": "code",
   "execution_count": 50,
   "id": "43c2c0ef",
   "metadata": {},
   "outputs": [
    {
     "data": {
      "image/png": "[encoded data removed]",
      "text/plain": [
       "<Figure size 1500x800 with 1 Axes>"
      ]
     },
     "metadata": {},
     "output_type": "display_data"
    }
   ],
   "source": [
    "plt.figure(figsize=(15, 8))\n",
    "plt.boxplot([top_airline[top_airline['Airline'] == airline]['Price'] for airline in top_airline['Airline'].unique()], labels = top_airline['Airline'].unique())\n",
    "plt.xticks(rotation=45, ha='right')\n",
    "plt.title('Price Distribution Across Airlines')\n",
    "plt.xlabel('Airline')\n",
    "plt.ylabel('Price')\n",
    "plt.grid(True)\n",
    "plt.show()"
   ]
  },
  {
   "cell_type": "markdown",
   "id": "06b26a44",
   "metadata": {},
   "source": [
    " # Model Preperation"
   ]
  },
  {
   "cell_type": "code",
   "execution_count": 51,
   "id": "60b18dfb",
   "metadata": {
    "scrolled": true
   },
   "outputs": [
    {
     "data": {
      "text/html": [
       "<div>\n",
       "<style scoped>\n",
       "    .dataframe tbody tr th:only-of-type {\n",
       "        vertical-align: middle;\n",
       "    }\n",
       "\n",
       "    .dataframe tbody tr th {\n",
       "        vertical-align: top;\n",
       "    }\n",
       "\n",
       "    .dataframe thead th {\n",
       "        text-align: right;\n",
       "    }\n",
       "</style>\n",
       "<table border=\"1\" class=\"dataframe\">\n",
       "  <thead>\n",
       "    <tr style=\"text-align: right;\">\n",
       "      <th></th>\n",
       "      <th>Airline</th>\n",
       "      <th>Source</th>\n",
       "      <th>Destination</th>\n",
       "      <th>Total stops</th>\n",
       "      <th>Price</th>\n",
       "      <th>Day</th>\n",
       "      <th>Month</th>\n",
       "      <th>Year</th>\n",
       "      <th>Hours</th>\n",
       "      <th>Minutes</th>\n",
       "    </tr>\n",
       "  </thead>\n",
       "  <tbody>\n",
       "    <tr>\n",
       "      <th>0</th>\n",
       "      <td>Aeroflot</td>\n",
       "      <td>NYC</td>\n",
       "      <td>SVO</td>\n",
       "      <td>nonstop</td>\n",
       "      <td>346.14</td>\n",
       "      <td>1</td>\n",
       "      <td>2</td>\n",
       "      <td>2022</td>\n",
       "      <td>9</td>\n",
       "      <td>0</td>\n",
       "    </tr>\n",
       "    <tr>\n",
       "      <th>1</th>\n",
       "      <td>Aeroflot</td>\n",
       "      <td>NYC</td>\n",
       "      <td>SVO</td>\n",
       "      <td>nonstop</td>\n",
       "      <td>324.81</td>\n",
       "      <td>1</td>\n",
       "      <td>2</td>\n",
       "      <td>2022</td>\n",
       "      <td>9</td>\n",
       "      <td>0</td>\n",
       "    </tr>\n",
       "    <tr>\n",
       "      <th>2</th>\n",
       "      <td>Aeroflot</td>\n",
       "      <td>NYC</td>\n",
       "      <td>SVO</td>\n",
       "      <td>nonstop</td>\n",
       "      <td>324.81</td>\n",
       "      <td>1</td>\n",
       "      <td>2</td>\n",
       "      <td>2022</td>\n",
       "      <td>9</td>\n",
       "      <td>0</td>\n",
       "    </tr>\n",
       "    <tr>\n",
       "      <th>3</th>\n",
       "      <td>Delta</td>\n",
       "      <td>NYC</td>\n",
       "      <td>SVO</td>\n",
       "      <td>1 stop</td>\n",
       "      <td>377.19</td>\n",
       "      <td>1</td>\n",
       "      <td>2</td>\n",
       "      <td>2022</td>\n",
       "      <td>11</td>\n",
       "      <td>30</td>\n",
       "    </tr>\n",
       "    <tr>\n",
       "      <th>4</th>\n",
       "      <td>Delta</td>\n",
       "      <td>NYC</td>\n",
       "      <td>SVO</td>\n",
       "      <td>1 stop</td>\n",
       "      <td>381.78</td>\n",
       "      <td>1</td>\n",
       "      <td>2</td>\n",
       "      <td>2022</td>\n",
       "      <td>12</td>\n",
       "      <td>35</td>\n",
       "    </tr>\n",
       "  </tbody>\n",
       "</table>\n",
       "</div>"
      ],
      "text/plain": [
       "    Airline Source Destination Total stops   Price  Day  Month  Year  Hours  \\\n",
       "0  Aeroflot    NYC         SVO    nonstop   346.14    1      2  2022      9   \n",
       "1  Aeroflot    NYC         SVO    nonstop   324.81    1      2  2022      9   \n",
       "2  Aeroflot    NYC         SVO    nonstop   324.81    1      2  2022      9   \n",
       "3     Delta    NYC         SVO     1 stop   377.19    1      2  2022     11   \n",
       "4     Delta    NYC         SVO     1 stop   381.78    1      2  2022     12   \n",
       "\n",
       "   Minutes  \n",
       "0        0  \n",
       "1        0  \n",
       "2        0  \n",
       "3       30  \n",
       "4       35  "
      ]
     },
     "execution_count": 51,
     "metadata": {},
     "output_type": "execute_result"
    }
   ],
   "source": [
    "data.head()"
   ]
  },
  {
   "cell_type": "code",
   "execution_count": 52,
   "id": "22d110f4",
   "metadata": {},
   "outputs": [
    {
     "data": {
      "text/plain": [
       "array(['nonstop ', '1 stop ', '2 stops ', '3 stops '], dtype=object)"
      ]
     },
     "execution_count": 52,
     "metadata": {},
     "output_type": "execute_result"
    }
   ],
   "source": [
    "data['Total stops'].unique()"
   ]
  },
  {
   "cell_type": "code",
   "execution_count": 53,
   "id": "55b5c212",
   "metadata": {},
   "outputs": [],
   "source": [
    "data['Total stops'] = data['Total stops'].replace({'1 stop ': 1 , '2 stops ': 2 , '3 stops ': 3 , 'nonstop ': 0})"
   ]
  },
  {
   "cell_type": "code",
   "execution_count": 54,
   "id": "1dfd30fa",
   "metadata": {
    "scrolled": true
   },
   "outputs": [
    {
     "data": {
      "text/html": [
       "<div>\n",
       "<style scoped>\n",
       "    .dataframe tbody tr th:only-of-type {\n",
       "        vertical-align: middle;\n",
       "    }\n",
       "\n",
       "    .dataframe tbody tr th {\n",
       "        vertical-align: top;\n",
       "    }\n",
       "\n",
       "    .dataframe thead th {\n",
       "        text-align: right;\n",
       "    }\n",
       "</style>\n",
       "<table border=\"1\" class=\"dataframe\">\n",
       "  <thead>\n",
       "    <tr style=\"text-align: right;\">\n",
       "      <th></th>\n",
       "      <th>Airline</th>\n",
       "      <th>Source</th>\n",
       "      <th>Destination</th>\n",
       "      <th>Total stops</th>\n",
       "      <th>Price</th>\n",
       "      <th>Day</th>\n",
       "      <th>Month</th>\n",
       "      <th>Year</th>\n",
       "      <th>Hours</th>\n",
       "      <th>Minutes</th>\n",
       "    </tr>\n",
       "  </thead>\n",
       "  <tbody>\n",
       "    <tr>\n",
       "      <th>0</th>\n",
       "      <td>Aeroflot</td>\n",
       "      <td>NYC</td>\n",
       "      <td>SVO</td>\n",
       "      <td>0</td>\n",
       "      <td>346.14</td>\n",
       "      <td>1</td>\n",
       "      <td>2</td>\n",
       "      <td>2022</td>\n",
       "      <td>9</td>\n",
       "      <td>0</td>\n",
       "    </tr>\n",
       "    <tr>\n",
       "      <th>1</th>\n",
       "      <td>Aeroflot</td>\n",
       "      <td>NYC</td>\n",
       "      <td>SVO</td>\n",
       "      <td>0</td>\n",
       "      <td>324.81</td>\n",
       "      <td>1</td>\n",
       "      <td>2</td>\n",
       "      <td>2022</td>\n",
       "      <td>9</td>\n",
       "      <td>0</td>\n",
       "    </tr>\n",
       "    <tr>\n",
       "      <th>2</th>\n",
       "      <td>Aeroflot</td>\n",
       "      <td>NYC</td>\n",
       "      <td>SVO</td>\n",
       "      <td>0</td>\n",
       "      <td>324.81</td>\n",
       "      <td>1</td>\n",
       "      <td>2</td>\n",
       "      <td>2022</td>\n",
       "      <td>9</td>\n",
       "      <td>0</td>\n",
       "    </tr>\n",
       "    <tr>\n",
       "      <th>3</th>\n",
       "      <td>Delta</td>\n",
       "      <td>NYC</td>\n",
       "      <td>SVO</td>\n",
       "      <td>1</td>\n",
       "      <td>377.19</td>\n",
       "      <td>1</td>\n",
       "      <td>2</td>\n",
       "      <td>2022</td>\n",
       "      <td>11</td>\n",
       "      <td>30</td>\n",
       "    </tr>\n",
       "    <tr>\n",
       "      <th>4</th>\n",
       "      <td>Delta</td>\n",
       "      <td>NYC</td>\n",
       "      <td>SVO</td>\n",
       "      <td>1</td>\n",
       "      <td>381.78</td>\n",
       "      <td>1</td>\n",
       "      <td>2</td>\n",
       "      <td>2022</td>\n",
       "      <td>12</td>\n",
       "      <td>35</td>\n",
       "    </tr>\n",
       "  </tbody>\n",
       "</table>\n",
       "</div>"
      ],
      "text/plain": [
       "    Airline Source Destination  Total stops   Price  Day  Month  Year  Hours  \\\n",
       "0  Aeroflot    NYC         SVO            0  346.14    1      2  2022      9   \n",
       "1  Aeroflot    NYC         SVO            0  324.81    1      2  2022      9   \n",
       "2  Aeroflot    NYC         SVO            0  324.81    1      2  2022      9   \n",
       "3     Delta    NYC         SVO            1  377.19    1      2  2022     11   \n",
       "4     Delta    NYC         SVO            1  381.78    1      2  2022     12   \n",
       "\n",
       "   Minutes  \n",
       "0        0  \n",
       "1        0  \n",
       "2        0  \n",
       "3       30  \n",
       "4       35  "
      ]
     },
     "execution_count": 54,
     "metadata": {},
     "output_type": "execute_result"
    }
   ],
   "source": [
    "data.head()"
   ]
  },
  {
   "cell_type": "code",
   "execution_count": 55,
   "id": "bffa6b82",
   "metadata": {},
   "outputs": [],
   "source": [
    "from sklearn.preprocessing import LabelEncoder\n",
    "\n",
    "col = ['Airline','Source', 'Destination']\n",
    "\n",
    "for col in col:\n",
    "    data[col] = LabelEncoder().fit_transform(data[col])"
   ]
  },
  {
   "cell_type": "code",
   "execution_count": 56,
   "id": "8cd3929d",
   "metadata": {
    "scrolled": true
   },
   "outputs": [
    {
     "data": {
      "text/html": [
       "<div>\n",
       "<style scoped>\n",
       "    .dataframe tbody tr th:only-of-type {\n",
       "        vertical-align: middle;\n",
       "    }\n",
       "\n",
       "    .dataframe tbody tr th {\n",
       "        vertical-align: top;\n",
       "    }\n",
       "\n",
       "    .dataframe thead th {\n",
       "        text-align: right;\n",
       "    }\n",
       "</style>\n",
       "<table border=\"1\" class=\"dataframe\">\n",
       "  <thead>\n",
       "    <tr style=\"text-align: right;\">\n",
       "      <th></th>\n",
       "      <th>Airline</th>\n",
       "      <th>Source</th>\n",
       "      <th>Destination</th>\n",
       "      <th>Total stops</th>\n",
       "      <th>Price</th>\n",
       "      <th>Day</th>\n",
       "      <th>Month</th>\n",
       "      <th>Year</th>\n",
       "      <th>Hours</th>\n",
       "      <th>Minutes</th>\n",
       "    </tr>\n",
       "  </thead>\n",
       "  <tbody>\n",
       "    <tr>\n",
       "      <th>0</th>\n",
       "      <td>14</td>\n",
       "      <td>0</td>\n",
       "      <td>3</td>\n",
       "      <td>0</td>\n",
       "      <td>346.14</td>\n",
       "      <td>1</td>\n",
       "      <td>2</td>\n",
       "      <td>2022</td>\n",
       "      <td>9</td>\n",
       "      <td>0</td>\n",
       "    </tr>\n",
       "    <tr>\n",
       "      <th>1</th>\n",
       "      <td>14</td>\n",
       "      <td>0</td>\n",
       "      <td>3</td>\n",
       "      <td>0</td>\n",
       "      <td>324.81</td>\n",
       "      <td>1</td>\n",
       "      <td>2</td>\n",
       "      <td>2022</td>\n",
       "      <td>9</td>\n",
       "      <td>0</td>\n",
       "    </tr>\n",
       "    <tr>\n",
       "      <th>2</th>\n",
       "      <td>14</td>\n",
       "      <td>0</td>\n",
       "      <td>3</td>\n",
       "      <td>0</td>\n",
       "      <td>324.81</td>\n",
       "      <td>1</td>\n",
       "      <td>2</td>\n",
       "      <td>2022</td>\n",
       "      <td>9</td>\n",
       "      <td>0</td>\n",
       "    </tr>\n",
       "    <tr>\n",
       "      <th>3</th>\n",
       "      <td>208</td>\n",
       "      <td>0</td>\n",
       "      <td>3</td>\n",
       "      <td>1</td>\n",
       "      <td>377.19</td>\n",
       "      <td>1</td>\n",
       "      <td>2</td>\n",
       "      <td>2022</td>\n",
       "      <td>11</td>\n",
       "      <td>30</td>\n",
       "    </tr>\n",
       "    <tr>\n",
       "      <th>4</th>\n",
       "      <td>208</td>\n",
       "      <td>0</td>\n",
       "      <td>3</td>\n",
       "      <td>1</td>\n",
       "      <td>381.78</td>\n",
       "      <td>1</td>\n",
       "      <td>2</td>\n",
       "      <td>2022</td>\n",
       "      <td>12</td>\n",
       "      <td>35</td>\n",
       "    </tr>\n",
       "  </tbody>\n",
       "</table>\n",
       "</div>"
      ],
      "text/plain": [
       "   Airline  Source  Destination  Total stops   Price  Day  Month  Year  Hours  \\\n",
       "0       14       0            3            0  346.14    1      2  2022      9   \n",
       "1       14       0            3            0  324.81    1      2  2022      9   \n",
       "2       14       0            3            0  324.81    1      2  2022      9   \n",
       "3      208       0            3            1  377.19    1      2  2022     11   \n",
       "4      208       0            3            1  381.78    1      2  2022     12   \n",
       "\n",
       "   Minutes  \n",
       "0        0  \n",
       "1        0  \n",
       "2        0  \n",
       "3       30  \n",
       "4       35  "
      ]
     },
     "execution_count": 56,
     "metadata": {},
     "output_type": "execute_result"
    }
   ],
   "source": [
    "data.head()"
   ]
  },
  {
   "cell_type": "markdown",
   "id": "ded5c894",
   "metadata": {},
   "source": [
    "# Modelling"
   ]
  },
  {
   "cell_type": "code",
   "execution_count": 57,
   "id": "8eacf645",
   "metadata": {},
   "outputs": [],
   "source": [
    "x = data.drop(['Price'], axis=1)\n",
    "y = data['Price']"
   ]
  },
  {
   "cell_type": "code",
   "execution_count": 58,
   "id": "1f84a7c0",
   "metadata": {},
   "outputs": [
    {
     "data": {
      "text/plain": [
       "Index(['Airline', 'Source', 'Destination', 'Total stops', 'Day', 'Month',\n",
       "       'Year', 'Hours', 'Minutes'],\n",
       "      dtype='object')"
      ]
     },
     "execution_count": 58,
     "metadata": {},
     "output_type": "execute_result"
    }
   ],
   "source": [
    "x.columns"
   ]
  },
  {
   "cell_type": "code",
   "execution_count": 59,
   "id": "6cb7f5ec",
   "metadata": {},
   "outputs": [
    {
     "data": {
      "text/plain": [
       "0    346.14\n",
       "1    324.81\n",
       "2    324.81\n",
       "3    377.19\n",
       "4    381.78\n",
       "Name: Price, dtype: float64"
      ]
     },
     "execution_count": 59,
     "metadata": {},
     "output_type": "execute_result"
    }
   ],
   "source": [
    "y.head()"
   ]
  },
  {
   "cell_type": "code",
   "execution_count": 60,
   "id": "28324f18",
   "metadata": {},
   "outputs": [],
   "source": [
    "from sklearn.model_selection import train_test_split\n",
    "\n",
    "X_train , X_test , y_train , y_test = train_test_split(x,y , test_size = 0.25 , random_state = 1)"
   ]
  },
  {
   "cell_type": "code",
   "execution_count": 61,
   "id": "2e37c505",
   "metadata": {},
   "outputs": [
    {
     "name": "stdout",
     "output_type": "stream",
     "text": [
      "       Airline  Source  Destination  Total stops  Day  Month  Year  Hours  \\\n",
      "1077       716       0            1            1   17      3  2022     17   \n",
      "1961       419       1            2            1   20      2  2022     10   \n",
      "1437       267       1            0            1    5      2  2022     17   \n",
      "14749      208       1            0            1   30      4  2022     14   \n",
      "219        253       2            1            1   25      3  2022     10   \n",
      "...        ...     ...          ...          ...  ...    ...   ...    ...   \n",
      "5251       240       2            0            2   31      3  2022     21   \n",
      "4783       306       1            2            1   25      3  2022     17   \n",
      "82         208       0            1            1    1      2  2022     12   \n",
      "1728       208       1            0            1    6      2  2022     14   \n",
      "5275       171       1            2            1    9      4  2022     11   \n",
      "\n",
      "       Minutes  \n",
      "1077        37  \n",
      "1961        35  \n",
      "1437        25  \n",
      "14749       10  \n",
      "219         30  \n",
      "...        ...  \n",
      "5251        44  \n",
      "4783        25  \n",
      "82          45  \n",
      "1728        58  \n",
      "5275        15  \n",
      "\n",
      "[41522 rows x 9 columns]\n",
      "       Airline  Source  Destination  Total stops  Day  Month  Year  Hours  \\\n",
      "415        554       1            2            1    5      2  2022     17   \n",
      "980         14       1            3            1   17      2  2022     12   \n",
      "614        434       3            0            2   22      2  2022     18   \n",
      "717         14       1            3            1   13      2  2022      5   \n",
      "4001       208       1            0            1   14      2  2022     12   \n",
      "...        ...     ...          ...          ...  ...    ...   ...    ...   \n",
      "6560       397       1            0            1   23      2  2022     18   \n",
      "14500      147       1            0            1   29      4  2022     12   \n",
      "1943       603       0            2            2   24      2  2022     23   \n",
      "8171       208       1            0            0   27      2  2022      8   \n",
      "4948       554       2            0            1   30      3  2022     24   \n",
      "\n",
      "       Minutes  \n",
      "415         50  \n",
      "980         10  \n",
      "614         35  \n",
      "717         55  \n",
      "4001         8  \n",
      "...        ...  \n",
      "6560        55  \n",
      "14500       50  \n",
      "1943        25  \n",
      "8171        45  \n",
      "4948        50  \n",
      "\n",
      "[13841 rows x 9 columns]\n",
      "1077      417.42\n",
      "1961      705.51\n",
      "1437     3213.00\n",
      "14749    2693.52\n",
      "219       524.88\n",
      "          ...   \n",
      "5251      922.32\n",
      "4783      631.53\n",
      "82        369.90\n",
      "1728     3201.39\n",
      "5275      544.59\n",
      "Name: Price, Length: 41522, dtype: float64\n",
      "415       632.88\n",
      "980       473.04\n",
      "614      2786.94\n",
      "717       273.51\n",
      "4001     2707.83\n",
      "          ...   \n",
      "6560     1513.89\n",
      "14500    2709.99\n",
      "1943     3776.22\n",
      "8171     2702.16\n",
      "4948      956.88\n",
      "Name: Price, Length: 13841, dtype: float64\n"
     ]
    }
   ],
   "source": [
    "print(X_train)\n",
    "print(X_test)\n",
    "print(y_train)\n",
    "print(y_test)"
   ]
  },
  {
   "cell_type": "code",
   "execution_count": 62,
   "id": "c0ba4b63",
   "metadata": {},
   "outputs": [],
   "source": [
    "metrics_lst = []\n",
    "    \n",
    "def get_metrics(model):\n",
    "    global metrics_lst  # Declare metrics_lst as global\n",
    "    \n",
    "    train_score = model.score(X_train, y_train)\n",
    "    test_score = model.score(X_test, y_test)\n",
    "    mae = metrics.mean_absolute_error(y_test , model.predict(X_test))\n",
    "    mse = metrics.mean_squared_error(y_test, model.predict(X_test))\n",
    "    rmse = np.sqrt(mse)\n",
    "    r2 = r2_score(y_test, model.predict(X_test))\n",
    "   \n",
    "    temp_list = [train_score, test_score, mae, mse, rmse, r2]\n",
    "    \n",
    "    metrics_lst.extend([temp_list])  # Use extend instead of list comprehension\n",
    "\n",
    "    print(f'Train score: {train_score}')\n",
    "    print(f'Test score: {test_score}')\n",
    "    print(\"MAE:\", mae)\n",
    "    print(\"MSE:\", mse)\n",
    "    print(\"RMSE:\", rmse)\n",
    "    print(\"Coefficient of Determination:\", r2)"
   ]
  },
  {
   "cell_type": "markdown",
   "id": "71a73b5c",
   "metadata": {},
   "source": [
    "## Multiple Linear Regression"
   ]
  },
  {
   "cell_type": "code",
   "execution_count": 63,
   "id": "4f5b29f4",
   "metadata": {
    "scrolled": true
   },
   "outputs": [
    {
     "name": "stdout",
     "output_type": "stream",
     "text": [
      "Train score: 0.0981373775299973\n",
      "Test score: 0.09485361970753381\n",
      "MAE: 781.1706535917311\n",
      "MSE: 1431023.331099267\n",
      "RMSE: 1196.253874016409\n",
      "Coefficient of Determination: 0.09485361970753381\n"
     ]
    }
   ],
   "source": [
    "from sklearn.linear_model import LinearRegression\n",
    "\n",
    "\n",
    "multiReg_model = LinearRegression()\n",
    "multiReg_model.fit(X_train , y_train)\n",
    "get_metrics(multiReg_model)"
   ]
  },
  {
   "cell_type": "markdown",
   "id": "663edab7",
   "metadata": {},
   "source": [
    "## Decision Tree"
   ]
  },
  {
   "cell_type": "code",
   "execution_count": 64,
   "id": "3f80df05",
   "metadata": {},
   "outputs": [
    {
     "name": "stdout",
     "output_type": "stream",
     "text": [
      "Train score: 0.9876871838926687\n",
      "Test score: 0.8713818119827741\n",
      "MAE: 89.02226848803278\n",
      "MSE: 203343.49433833163\n",
      "RMSE: 450.9362419880793\n",
      "Coefficient of Determination: 0.8713818119827741\n"
     ]
    }
   ],
   "source": [
    "from sklearn.tree import DecisionTreeRegressor\n",
    "\n",
    "Descision_Tree_Reg = DecisionTreeRegressor()\n",
    "\n",
    "Descision_Tree_Reg.fit(X_train, y_train)\n",
    "\n",
    "get_metrics(Descision_Tree_Reg)"
   ]
  },
  {
   "cell_type": "code",
   "execution_count": 65,
   "id": "c593dc55",
   "metadata": {
    "scrolled": true
   },
   "outputs": [
    {
     "data": {
      "image/png": "[encoded data removed]",
      "text/plain": [
       "<Figure size 800x600 with 1 Axes>"
      ]
     },
     "metadata": {},
     "output_type": "display_data"
    }
   ],
   "source": [
    "# Assuming y_test contains the actual target values and y_pred contains the predicted values for two different models\n",
    "y_pred_train = Descision_Tree_Reg.predict(X_train)\n",
    "y_pred_test = Descision_Tree_Reg.predict(X_test)\n",
    "plt.figure(figsize=(8, 6))\n",
    "\n",
    "# Scatter plot for the first model (blue color)\n",
    "plt.scatter(y_train, y_pred_train, color='blue', label='Train model')\n",
    "\n",
    "# Scatter plot for the second model (red color)\n",
    "plt.scatter(y_test, y_pred_test, color='red', label='test model')\n",
    "\n",
    "# # Plotting the diagonal line for reference\n",
    "max_val = max(max(y_train), max(y_test))\n",
    "plt.plot([0, max_val], [0, max_val], color='gray', linestyle='--', label='Ideal')\n",
    "\n",
    "plt.xlabel('Actual Values')\n",
    "plt.ylabel('Predicted Values')\n",
    "plt.title('Actual vs. Predicted Values')\n",
    "plt.legend()  # Show legend with labels\n",
    "plt.show()"
   ]
  },
  {
   "cell_type": "code",
   "execution_count": 66,
   "id": "2e69ff49",
   "metadata": {
    "scrolled": true
   },
   "outputs": [
    {
     "data": {
      "text/plain": [
       "Airline         267.0\n",
       "Source            0.0\n",
       "Destination       3.0\n",
       "Total stops       2.0\n",
       "Price           872.1\n",
       "Day               6.0\n",
       "Month             3.0\n",
       "Year           2022.0\n",
       "Hours            15.0\n",
       "Minutes          25.0\n",
       "Name: 1500, dtype: float64"
      ]
     },
     "execution_count": 66,
     "metadata": {},
     "output_type": "execute_result"
    }
   ],
   "source": [
    "data.iloc[1500]"
   ]
  },
  {
   "cell_type": "code",
   "execution_count": 67,
   "id": "52c969c0",
   "metadata": {},
   "outputs": [
    {
     "name": "stderr",
     "output_type": "stream",
     "text": [
      "C:\\Users\\Atharva\\anaconda3\\lib\\site-packages\\sklearn\\base.py:420: UserWarning: X does not have valid feature names, but RandomForestRegressor was fitted with feature names\n",
      "  warnings.warn(\n"
     ]
    },
    {
     "data": {
      "text/plain": [
       "array([886.8312])"
      ]
     },
     "execution_count": 67,
     "metadata": {},
     "output_type": "execute_result"
    }
   ],
   "source": [
    "randomForest.predict([[267, 0,3,2,6,3,2022,15,25]])"
   ]
  },
  {
   "cell_type": "markdown",
   "id": "1bcff9d0",
   "metadata": {},
   "source": [
    "## Random Forest"
   ]
  },
  {
   "cell_type": "code",
   "execution_count": 68,
   "id": "ed0a8540",
   "metadata": {},
   "outputs": [
    {
     "name": "stdout",
     "output_type": "stream",
     "text": [
      "Train score: 0.9759416212457173\n",
      "Test score: 0.893161283618852\n",
      "MAE: 102.45645652158855\n",
      "MSE: 168910.4647987649\n",
      "RMSE: 410.9871832536447\n",
      "Coefficient of Determination: 0.893161283618852\n"
     ]
    }
   ],
   "source": [
    "from sklearn.ensemble import RandomForestRegressor, RandomForestClassifier\n",
    "\n",
    "randomForest = RandomForestRegressor()\n",
    "randomForest.fit(X_train, y_train)\n",
    "get_metrics(randomForest)"
   ]
  },
  {
   "cell_type": "code",
   "execution_count": 69,
   "id": "0ab0ad6c",
   "metadata": {
    "scrolled": true
   },
   "outputs": [
    {
     "data": {
      "image/png": "[encoded data removed]",
      "text/plain": [
       "<Figure size 800x600 with 1 Axes>"
      ]
     },
     "metadata": {},
     "output_type": "display_data"
    }
   ],
   "source": [
    "# Assuming y_test contains the actual target values and y_pred contains the predicted values for two different models\n",
    "y_pred_train = randomForest.predict(X_train)\n",
    "y_pred_test = randomForest.predict(X_test)\n",
    "\n",
    "plt.figure(figsize=(8, 6))\n",
    "\n",
    "# Scatter plot for the first model (blue color)\n",
    "plt.scatter(y_train, y_pred_train, color='blue', label='Train model')\n",
    "\n",
    "# Scatter plot for the second model (red color)\n",
    "plt.scatter(y_test, y_pred_test, color='red', label='Test model')\n",
    "\n",
    "# # Plotting the diagonal line for reference\n",
    "max_val = max(max(y_train), max(y_test))\n",
    "plt.plot([0, max_val], [0, max_val], color='gray', linestyle='--', label='Ideal')\n",
    "\n",
    "plt.xlabel('Actual Values')\n",
    "plt.ylabel('Predicted Values')\n",
    "plt.title('Actual vs. Predicted Values')\n",
    "plt.legend()  # Show legend with labels\n",
    "plt.show()"
   ]
  },
  {
   "cell_type": "code",
   "execution_count": 70,
   "id": "10fdf7cf",
   "metadata": {},
   "outputs": [
    {
     "data": {
      "text/plain": [
       "Airline         269.00\n",
       "Source            0.00\n",
       "Destination       3.00\n",
       "Total stops       1.00\n",
       "Price           484.92\n",
       "Day               1.00\n",
       "Month             2.00\n",
       "Year           2022.00\n",
       "Hours            15.00\n",
       "Minutes          15.00\n",
       "Name: 10, dtype: float64"
      ]
     },
     "execution_count": 70,
     "metadata": {},
     "output_type": "execute_result"
    }
   ],
   "source": [
    "data.iloc[10]"
   ]
  },
  {
   "cell_type": "code",
   "execution_count": 71,
   "id": "251d05c8",
   "metadata": {},
   "outputs": [
    {
     "name": "stderr",
     "output_type": "stream",
     "text": [
      "C:\\Users\\Atharva\\anaconda3\\lib\\site-packages\\sklearn\\base.py:420: UserWarning: X does not have valid feature names, but RandomForestRegressor was fitted with feature names\n",
      "  warnings.warn(\n"
     ]
    },
    {
     "data": {
      "text/plain": [
       "array([497.4426])"
      ]
     },
     "execution_count": 71,
     "metadata": {},
     "output_type": "execute_result"
    }
   ],
   "source": [
    "randomForest.predict([[269, 0,3,1,1,2,2022,15,15]])"
   ]
  },
  {
   "cell_type": "markdown",
   "id": "58b032e5",
   "metadata": {},
   "source": [
    "## Lasso"
   ]
  },
  {
   "cell_type": "code",
   "execution_count": 72,
   "id": "e73df9e2",
   "metadata": {},
   "outputs": [
    {
     "name": "stdout",
     "output_type": "stream",
     "text": [
      "Train score: 0.09813155812522645\n",
      "Test score: 0.09489792205096548\n",
      "MAE: 781.3645559715808\n",
      "MSE: 1430953.2897352914\n",
      "RMSE: 1196.2245983657465\n",
      "Coefficient of Determination: 0.09489792205096548\n"
     ]
    }
   ],
   "source": [
    "from sklearn.linear_model import Lasso\n",
    "\n",
    "lasso_model = Lasso()\n",
    "lasso_model.fit(X_train, y_train)\n",
    "get_metrics(lasso_model)"
   ]
  },
  {
   "cell_type": "markdown",
   "id": "08deaec4",
   "metadata": {},
   "source": [
    "## Model Comparisoin"
   ]
  },
  {
   "cell_type": "code",
   "execution_count": 73,
   "id": "5bd41f12",
   "metadata": {},
   "outputs": [
    {
     "data": {
      "text/html": [
       "<div>\n",
       "<style scoped>\n",
       "    .dataframe tbody tr th:only-of-type {\n",
       "        vertical-align: middle;\n",
       "    }\n",
       "\n",
       "    .dataframe tbody tr th {\n",
       "        vertical-align: top;\n",
       "    }\n",
       "\n",
       "    .dataframe thead th {\n",
       "        text-align: right;\n",
       "    }\n",
       "</style>\n",
       "<table border=\"1\" class=\"dataframe\">\n",
       "  <thead>\n",
       "    <tr style=\"text-align: right;\">\n",
       "      <th></th>\n",
       "      <th>Model</th>\n",
       "      <th>Train_Score</th>\n",
       "      <th>Test Score</th>\n",
       "      <th>Mean Absolute Error</th>\n",
       "      <th>Mean Squared Error</th>\n",
       "      <th>RMSE</th>\n",
       "      <th>R2</th>\n",
       "    </tr>\n",
       "  </thead>\n",
       "  <tbody>\n",
       "    <tr>\n",
       "      <th>0</th>\n",
       "      <td>Multiple Regression</td>\n",
       "      <td>9.813738</td>\n",
       "      <td>9.485362</td>\n",
       "      <td>781.170654</td>\n",
       "      <td>1.431023e+06</td>\n",
       "      <td>1196.253874</td>\n",
       "      <td>0.094854</td>\n",
       "    </tr>\n",
       "    <tr>\n",
       "      <th>1</th>\n",
       "      <td>Descision Tree</td>\n",
       "      <td>98.768718</td>\n",
       "      <td>87.138181</td>\n",
       "      <td>89.022268</td>\n",
       "      <td>2.033435e+05</td>\n",
       "      <td>450.936242</td>\n",
       "      <td>0.871382</td>\n",
       "    </tr>\n",
       "    <tr>\n",
       "      <th>2</th>\n",
       "      <td>Random Forest</td>\n",
       "      <td>97.594162</td>\n",
       "      <td>89.316128</td>\n",
       "      <td>102.456457</td>\n",
       "      <td>1.689105e+05</td>\n",
       "      <td>410.987183</td>\n",
       "      <td>0.893161</td>\n",
       "    </tr>\n",
       "    <tr>\n",
       "      <th>3</th>\n",
       "      <td>Lasso Regression</td>\n",
       "      <td>9.813156</td>\n",
       "      <td>9.489792</td>\n",
       "      <td>781.364556</td>\n",
       "      <td>1.430953e+06</td>\n",
       "      <td>1196.224598</td>\n",
       "      <td>0.094898</td>\n",
       "    </tr>\n",
       "  </tbody>\n",
       "</table>\n",
       "</div>"
      ],
      "text/plain": [
       "                 Model  Train_Score  Test Score  Mean Absolute Error  \\\n",
       "0  Multiple Regression     9.813738    9.485362           781.170654   \n",
       "1       Descision Tree    98.768718   87.138181            89.022268   \n",
       "2        Random Forest    97.594162   89.316128           102.456457   \n",
       "3     Lasso Regression     9.813156    9.489792           781.364556   \n",
       "\n",
       "   Mean Squared Error         RMSE        R2  \n",
       "0        1.431023e+06  1196.253874  0.094854  \n",
       "1        2.033435e+05   450.936242  0.871382  \n",
       "2        1.689105e+05   410.987183  0.893161  \n",
       "3        1.430953e+06  1196.224598  0.094898  "
      ]
     },
     "execution_count": 73,
     "metadata": {},
     "output_type": "execute_result"
    }
   ],
   "source": [
    "columns = ['Train_Score', 'Test Score','Mean Absolute Error','Mean Squared Error','RMSE','R2']\n",
    "\n",
    "df = pd.DataFrame(metrics_lst,columns = columns)\n",
    "df['Train_Score'] = df['Train_Score'] * 100\n",
    "df['Test Score'] = df['Test Score'] * 100\n",
    "\n",
    "new_col_model = ['Multiple Regression' , 'Descision Tree' , 'Random Forest' , 'Lasso Regression']\n",
    "df.insert(loc=0, column='Model', value=new_col_model)\n",
    "\n",
    "df.head()"
   ]
  },
  {
   "cell_type": "code",
   "execution_count": 74,
   "id": "9a3af7a5",
   "metadata": {},
   "outputs": [
    {
     "data": {
      "image/png": "[encoded data removed]",
      "text/plain": [
       "<Figure size 1200x600 with 1 Axes>"
      ]
     },
     "metadata": {},
     "output_type": "display_data"
    }
   ],
   "source": [
    "plt.figure(figsize = (12,6))\n",
    "plt.bar( df['Model'] , df['Test Score'] , color = 'red')\n",
    "plt.title('')\n",
    "plt.xlabel(\"Models\")\n",
    "plt.ylabel(\"Accuracy\")\n",
    "plt.show()"
   ]
  },
  {
   "cell_type": "markdown",
   "id": "ac036d35",
   "metadata": {},
   "source": [
    "## Conclusion\n",
    "\n",
    "\n",
    "Random Forest is known for its ability to handle complex relationships and high-dimensional data effectively. It combines multiple decision trees to reduce overfitting and improve predictive accuracy, which is reflected in its high test score and R2 value.\n",
    "On the other hand, Multiple Regression assumes linear relationships between variables, which may not adequately capture the complexities present in the dataset, leading to poorer performance and higher prediction errors.\n",
    "In summary, the Random Forest model outperforms the Multiple Regression model due to its ability to capture nonlinear relationships and handle complex datasets more effectively, resulting in better predictive performance."
   ]
  },
  {
   "cell_type": "code",
   "execution_count": null,
   "id": "890437e4",
   "metadata": {},
   "outputs": [],
   "source": []
  }
 ],
 "metadata": {
  "kernelspec": {
   "display_name": "Python 3 (ipykernel)",
   "language": "python",
   "name": "python3"
  },
  "language_info": {
   "codemirror_mode": {
    "name": "ipython",
    "version": 3
   },
   "file_extension": ".py",
   "mimetype": "text/x-python",
   "name": "python",
   "nbconvert_exporter": "python",
   "pygments_lexer": "ipython3",
   "version": "3.10.9"
  }
 },
 "nbformat": 4,
 "nbformat_minor": 5
}
